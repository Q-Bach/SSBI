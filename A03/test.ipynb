{
 "cells": [
  {
   "cell_type": "code",
   "execution_count": 2,
   "metadata": {},
   "outputs": [],
   "source": [
    "from Bio.PDB import PDBParser\n",
    "import numpy as np\n",
    "import glob, os\n"
   ]
  },
  {
   "cell_type": "code",
   "execution_count": 3,
   "metadata": {},
   "outputs": [],
   "source": [
    "# read all pdb files in a directory\n",
    "pdb_files = []\n",
    "for file in os.listdir(\".\\Supplementary\"):\n",
    "    if file.endswith(\".pdb\"):\n",
    "        pdb_files.append(os.path.join(\".\\Supplementary\", file))"
   ]
  },
  {
   "cell_type": "code",
   "execution_count": 3,
   "metadata": {},
   "outputs": [
    {
     "data": {
      "text/plain": [
       "27"
      ]
     },
     "execution_count": 3,
     "metadata": {},
     "output_type": "execute_result"
    }
   ],
   "source": [
    "len(pdb_files)"
   ]
  },
  {
   "cell_type": "code",
   "execution_count": 4,
   "metadata": {},
   "outputs": [
    {
     "data": {
      "text/plain": [
       "('1axe', '.pdb')"
      ]
     },
     "execution_count": 4,
     "metadata": {},
     "output_type": "execute_result"
    }
   ],
   "source": [
    "os.path.splitext(os.path.basename(pdb_files[0]))"
   ]
  },
  {
   "cell_type": "code",
   "execution_count": 11,
   "metadata": {},
   "outputs": [
    {
     "data": {
      "text/plain": [
       "6553"
      ]
     },
     "execution_count": 11,
     "metadata": {},
     "output_type": "execute_result"
    }
   ],
   "source": [
    "with open(pdb_files[0], \"r\") as f:\n",
    "    lines = f.readlines();\n",
    "len(lines)"
   ]
  },
  {
   "cell_type": "code",
   "execution_count": 33,
   "metadata": {},
   "outputs": [],
   "source": [
    "Helix_index = [1,5,6]\n",
    "HELIX = {\n",
    "    1 : \"Right-handed alpha      \",\n",
    "    5 : \"Right-handed 310        \",\n",
    "    6 : \"Left-handed Helix       \"\n",
    "}\n",
    "HELIX_length = {\n",
    "    1 : 0,\n",
    "    5 : 0,\n",
    "    6 : 0\n",
    "}\n",
    "SHEET_length = 0\n",
    "total_length = 0\n"
   ]
  },
  {
   "cell_type": "code",
   "execution_count": 34,
   "metadata": {},
   "outputs": [],
   "source": [
    "for line in lines:\n",
    "    if line[:5]==\"HELIX\":\n",
    "        length = int(line[71:76])\n",
    "        helix_type = int(line[38:40])\n",
    "        if helix_type in Helix_index:\n",
    "            HELIX_length[helix_type] += length\n",
    "        total_length += length       "
   ]
  },
  {
   "cell_type": "code",
   "execution_count": 25,
   "metadata": {},
   "outputs": [
    {
     "data": {
      "text/plain": [
       "{1: 141, 5: 79, 6: 0}"
      ]
     },
     "execution_count": 25,
     "metadata": {},
     "output_type": "execute_result"
    }
   ],
   "source": [
    "HELIX_length"
   ]
  },
  {
   "cell_type": "code",
   "execution_count": 26,
   "metadata": {},
   "outputs": [
    {
     "data": {
      "text/plain": [
       "220"
      ]
     },
     "execution_count": 26,
     "metadata": {},
     "output_type": "execute_result"
    }
   ],
   "source": [
    "total_length"
   ]
  },
  {
   "cell_type": "code",
   "execution_count": 35,
   "metadata": {},
   "outputs": [],
   "source": [
    "# all sheet length of a pdb file\n",
    "for line in lines:\n",
    "    if line[:5]==\"SHEET\":\n",
    "        length = int(line[33:37])-int(line[22:26])\n",
    "        SHEET_length += length\n",
    "        total_length += length"
   ]
  },
  {
   "cell_type": "code",
   "execution_count": 28,
   "metadata": {},
   "outputs": [
    {
     "data": {
      "text/plain": [
       "134"
      ]
     },
     "execution_count": 28,
     "metadata": {},
     "output_type": "execute_result"
    }
   ],
   "source": [
    "SHEET_length"
   ]
  },
  {
   "cell_type": "code",
   "execution_count": 29,
   "metadata": {},
   "outputs": [
    {
     "data": {
      "text/plain": [
       "354"
      ]
     },
     "execution_count": 29,
     "metadata": {},
     "output_type": "execute_result"
    }
   ],
   "source": [
    "total_length"
   ]
  },
  {
   "cell_type": "code",
   "execution_count": 36,
   "metadata": {},
   "outputs": [],
   "source": [
    "for key in HELIX_length:\n",
    "    HELIX_length[key] /= total_length\n",
    "SHEET_length /= total_length"
   ]
  },
  {
   "cell_type": "code",
   "execution_count": 37,
   "metadata": {},
   "outputs": [
    {
     "name": "stdout",
     "output_type": "stream",
     "text": [
      "Secondary structure     Abundance\n",
      "Right-handed alpha       0.3983050847457627\n",
      "Right-handed 310         0.2231638418079096\n",
      "Left-handed Helix        0.0\n",
      "SHEET                    0.3785310734463277\n"
     ]
    }
   ],
   "source": [
    "print(\"Secondary structure     Abundance\")\n",
    "for key in HELIX_length:\n",
    "    print(HELIX[key], HELIX_length[key])\n",
    "print(\"SHEET                   \", SHEET_length)"
   ]
  },
  {
   "cell_type": "code",
   "execution_count": 46,
   "metadata": {},
   "outputs": [
    {
     "name": "stdout",
     "output_type": "stream",
     "text": [
      "Secondary structure     Abundance\n",
      "Right-handed alpha       0.6824644549763034\n",
      "Right-handed 310         0.10584518167456557\n",
      "SHEET                    0.21169036334913113\n"
     ]
    }
   ],
   "source": [
    "for pdb_file in pdb_files:\n",
    "    with open(pdb_file, \"r\") as f:\n",
    "        lines = f.readlines();\n",
    "        Helix_index = [1,5]\n",
    "        HELIX = {\n",
    "            1 : \"Right-handed alpha      \",\n",
    "            5 : \"Right-handed 310        \"\n",
    "        }\n",
    "        HELIX_length = {\n",
    "            1 : 0,\n",
    "            5 : 0\n",
    "        }\n",
    "        SHEET_length = 0\n",
    "        total_length = 0\n",
    "        # all helix length of a pdb file\n",
    "        for line in lines:\n",
    "            if line[:5]==\"HELIX\":\n",
    "                length = int(line[71:76])\n",
    "                helix_type = int(line[38:40])\n",
    "                if helix_type in Helix_index:\n",
    "                    HELIX_length[helix_type] += length\n",
    "                total_length += length       \n",
    "        # all sheet length of a pdb file\n",
    "        for line in lines:\n",
    "            if line[:5]==\"SHEET\":\n",
    "                length = int(line[33:37])-int(line[22:26])+1\n",
    "                SHEET_length += length\n",
    "                total_length += length\n",
    "# Calculate the relativ length\n",
    "for key in HELIX_length:\n",
    "    HELIX_length[key] /= total_length\n",
    "SHEET_length /= total_length\n",
    "# Print the result\n",
    "print(\"Secondary structure     Abundance\")\n",
    "for key in HELIX_length:\n",
    "    print(HELIX[key], HELIX_length[key])\n",
    "print(\"SHEET                   \", SHEET_length)"
   ]
  },
  {
   "cell_type": "code",
   "execution_count": 7,
   "metadata": {},
   "outputs": [
    {
     "name": "stdout",
     "output_type": "stream",
     "text": [
      "STAGKVIKCKAAVLWEEKKPFSIEEVEVAPPKAHEVRIKMVATGICRSDDHVVSGTLVTPLPVIAGHEAAGIVESIGEGVTTVRPGDKVIPLWTPQCGKCRVCKHPEGNFCLKNDLSMPRGTMQDGTSRFTCRGKPIHHFLGTSTFSQYTVVDEISVAKIDAASPLEKVCLIGCGFSTGYGSAVKVAKVTQGSTCAVFGLGGVGLSVIMGCKAAGAARIIGVDINKDKFAKAKEVGATECVNPQDYKKPIQEVLTEMSNGGVDFSFEVIGRLDTMVTALSCCQEAYGVSVIVGVPPDSQNLSMNPMLLLSGRTWKGAIFGGFKSKDSVPKLVADFMAKKFALDPLITHVLPFEKINEGFDLLRSGESIRTILTF\n",
      "STAGKVIKCKAAVLWEEKKPFSIEEVEVAPPKAHEVRIKMVATGICRSDDHVVSGTLVTPLPVIAGHEAAGIVESIGEGVTTVRPGDKVIPLWTPQCGKCRVCKHPEGNFCLKNDLSMPRGTMQDGTSRFTCRGKPIHHFLGTSTFSQYTVVDEISVAKIDAASPLEKVCLIGCGFSTGYGSAVKVAKVTQGSTCAVFGLGGVGLSVIMGCKAAGAARIIGVDINKDKFAKAKEVGATECVNPQDYKKPIQEVLTEMSNGGVDFSFEVIGRLDTMVTALSCCQEAYGVSVIVGVPPDSQNLSMNPMLLLSGRTWKGAIFGGFKSKDSVPKLVADFMAKKFALDPLITHVLPFEKINEGFDLLRSGESIRTILTF\n"
     ]
    }
   ],
   "source": [
    "from Bio import SeqIO\n",
    "for record in SeqIO.parse(pdb_files[0], \"pdb-seqres\"):\n",
    "    print(record.seq)"
   ]
  },
  {
   "cell_type": "code",
   "execution_count": 8,
   "metadata": {},
   "outputs": [
    {
     "name": "stderr",
     "output_type": "stream",
     "text": [
      "c:\\Users\\a1085\\miniconda3\\envs\\py3113\\Lib\\site-packages\\Bio\\PDB\\StructureBuilder.py:89: PDBConstructionWarning: WARNING: Chain A is discontinuous at line 6214.\n",
      "  warnings.warn(\n",
      "c:\\Users\\a1085\\miniconda3\\envs\\py3113\\Lib\\site-packages\\Bio\\PDB\\StructureBuilder.py:89: PDBConstructionWarning: WARNING: Chain B is discontinuous at line 6266.\n",
      "  warnings.warn(\n",
      "c:\\Users\\a1085\\miniconda3\\envs\\py3113\\Lib\\site-packages\\Bio\\PDB\\StructureBuilder.py:89: PDBConstructionWarning: WARNING: Chain A is discontinuous at line 6318.\n",
      "  warnings.warn(\n",
      "c:\\Users\\a1085\\miniconda3\\envs\\py3113\\Lib\\site-packages\\Bio\\PDB\\StructureBuilder.py:89: PDBConstructionWarning: WARNING: Chain B is discontinuous at line 6379.\n",
      "  warnings.warn(\n"
     ]
    },
    {
     "data": {
      "text/plain": [
       "{'A': 'STAGKVIKCKAAVLWEEKKPFSIEEVEVAPPKAHEVRIKMVATGICRSDDHVVSGTLVTPLPVIAGHEAAGIVESIGEGVTTVRPGDKVIPLWTPQCGKCRVCKHPEGNFCLKNDLSMPRGTMQDGTSRFTCRGKPIHHFLGTSTFSQYTVVDEISVAKIDAASPLEKVCLIGCGFSTGYGSAVKVAKVTQGSTCAVFGLGGVGLSVIMGCKAAGAARIIGVDINKDKFAKAKEVGATECVNPQDYKKPIQEVLTEMSNGGVDFSFEVIGRLDTMVTALSCCQEAYGVSVIVGVPPDSQNLSMNPMLLLSGRTWKGAIFGGFKSKDSVPKLVADFMAKKFALDPLITHVLPFEKINEGFDLLRSGESIRTILTFXXXXXXXXXXXXXXXXXXXXXXXXXXXXXXXXXXXXXXXXXXXXXXXXXXXXXXXXXXXXXXXX',\n",
       " 'B': 'STAGKVIKCKAAVLWEEKKPFSIEEVEVAPPKAHEVRIKMVATGICRSDDHVVSGTLVTPLPVIAGHEAAGIVESIGEGVTTVRPGDKVIPLWTPQCGKCRVCKHPEGNFCLKNDLSMPRGTMQDGTSRFTCRGKPIHHFLGTSTFSQYTVVDEISVAKIDAASPLEKVCLIGCGFSTGYGSAVKVAKVTQGSTCAVFGLGGVGLSVIMGCKAAGAARIIGVDINKDKFAKAKEVGATECVNPQDYKKPIQEVLTEMSNGGVDFSFEVIGRLDTMVTALSCCQEAYGVSVIVGVPPDSQNLSMNPMLLLSGRTWKGAIFGGFKSKDSVPKLVADFMAKKFALDPLITHVLPFEKINEGFDLLRSGESIRTILTFXXXXXXXXXXXXXXXXXXXXXXXXXXXXXXXXXXXXXXXXXXXXXXXXXXXXXXXXXX'}"
      ]
     },
     "execution_count": 8,
     "metadata": {},
     "output_type": "execute_result"
    }
   ],
   "source": [
    "from Bio.SeqUtils import seq1\n",
    "\n",
    "pdbparser = PDBParser()\n",
    "\n",
    "structure = pdbparser.get_structure(os.path.splitext(os.path.basename(pdb_files[0])), pdb_files[0])\n",
    "chains = {chain.id:seq1(''.join(residue.resname for residue in chain)) for chain in structure.get_chains()}\n",
    "\n",
    "chains"
   ]
  },
  {
   "cell_type": "code",
   "execution_count": 27,
   "metadata": {},
   "outputs": [],
   "source": [
    "amino_acids = \"ARNDCEQGHILKMFPSTWYV\"\n",
    "HELIX_aa_counter = {}\n",
    "SHEET_aa_counter = {}\n",
    "for i in range(len(amino_acids)):\n",
    "    HELIX_aa_counter[amino_acids[i]] = 0\n",
    "    SHEET_aa_counter[amino_acids[i]] = 0\n",
    "for pdb_file in pdb_files:\n",
    "    with open(pdb_files[0], \"r\") as f:\n",
    "        lines = f.readlines();\n",
    "        for line in lines:\n",
    "            if (line[:5]==\"HELIX\"):\n",
    "                if int(line[38:40])==1:\n",
    "                    chain = line[19] \n",
    "                    start = int(line[21:25])-1\n",
    "                    end = int(line[33:37])\n",
    "                    for aa in chains[chain][start:end]:\n",
    "                        HELIX_aa_counter[aa] += 1\n",
    "            if (line[:5]==\"SHEET\"):\n",
    "                chain = line[21] \n",
    "                start = int(line[22:26])-1\n",
    "                end = int(line[33:37])\n",
    "                for aa in chains[chain][start:end]:\n",
    "                    SHEET_aa_counter[aa] += 1\n"
   ]
  },
  {
   "cell_type": "code",
   "execution_count": 28,
   "metadata": {},
   "outputs": [],
   "source": [
    "total_aa_helix = 0\n",
    "for aa in amino_acids:\n",
    "    total_aa_helix += HELIX_aa_counter[aa]\n",
    "for aa in amino_acids:\n",
    "    HELIX_aa_counter[aa] /= total_aa_helix "
   ]
  },
  {
   "cell_type": "code",
   "execution_count": 34,
   "metadata": {},
   "outputs": [],
   "source": [
    "total_aa_sheet = 0\n",
    "for aa in amino_acids:\n",
    "    total_aa_sheet += SHEET_aa_counter[aa]\n",
    "for aa in amino_acids:\n",
    "    SHEET_aa_counter[aa] /= total_aa_sheet "
   ]
  },
  {
   "cell_type": "code",
   "execution_count": 35,
   "metadata": {},
   "outputs": [
    {
     "name": "stdout",
     "output_type": "stream",
     "text": [
      "A & 0.064 & A & 0.081\\\\ \n",
      "R & 0.021 & R & 0.035\\\\ \n",
      "N & 0.000 & N & 0.000\\\\ \n",
      "D & 0.071 & D & 0.012\\\\ \n",
      "C & 0.043 & C & 0.047\\\\ \n",
      "E & 0.043 & E & 0.093\\\\ \n",
      "Q & 0.014 & Q & 0.000\\\\ \n",
      "G & 0.099 & G & 0.047\\\\ \n",
      "H & 0.014 & H & 0.012\\\\ \n",
      "I & 0.043 & I & 0.145\\\\ \n",
      "L & 0.099 & L & 0.023\\\\ \n",
      "K & 0.064 & K & 0.076\\\\ \n",
      "M & 0.057 & M & 0.012\\\\ \n",
      "F & 0.028 & F & 0.047\\\\ \n",
      "P & 0.014 & P & 0.035\\\\ \n",
      "S & 0.106 & S & 0.047\\\\ \n",
      "T & 0.057 & T & 0.093\\\\ \n",
      "W & 0.000 & W & 0.012\\\\ \n",
      "Y & 0.014 & Y & 0.012\\\\ \n",
      "V & 0.149 & V & 0.174\\\\ \n"
     ]
    }
   ],
   "source": [
    "for aa in amino_acids:\n",
    "    print(aa+\" & \", end=\"\")\n",
    "    print(\"{:.3f}\".format(HELIX_aa_counter[aa]), end=\" & \")\n",
    "    print(aa+\" & \", end=\"\")\n",
    "    print(\"{:.3f}\".format(SHEET_aa_counter[aa]), end=\"\\\\\\\\ \\n\")"
   ]
  }
 ],
 "metadata": {
  "kernelspec": {
   "display_name": "py310",
   "language": "python",
   "name": "python3"
  },
  "language_info": {
   "codemirror_mode": {
    "name": "ipython",
    "version": 3
   },
   "file_extension": ".py",
   "mimetype": "text/x-python",
   "name": "python",
   "nbconvert_exporter": "python",
   "pygments_lexer": "ipython3",
   "version": "3.11.3"
  },
  "orig_nbformat": 4
 },
 "nbformat": 4,
 "nbformat_minor": 2
}
