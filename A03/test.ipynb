{
 "cells": [
  {
   "cell_type": "code",
   "execution_count": 1,
   "metadata": {},
   "outputs": [],
   "source": [
    "from Bio.PDB import PDBParser\n",
    "import numpy as np\n",
    "import glob, os\n"
   ]
  },
  {
   "cell_type": "code",
   "execution_count": 2,
   "metadata": {},
   "outputs": [],
   "source": [
    "# read all pdb files in a directory\n",
    "pdb_files = []\n",
    "for file in os.listdir(\".\\Supplementary\"):\n",
    "    if file.endswith(\".pdb\"):\n",
    "        pdb_files.append(os.path.join(\".\\Supplementary\", file))"
   ]
  },
  {
   "cell_type": "code",
   "execution_count": 3,
   "metadata": {},
   "outputs": [
    {
     "data": {
      "text/plain": [
       "27"
      ]
     },
     "execution_count": 3,
     "metadata": {},
     "output_type": "execute_result"
    }
   ],
   "source": [
    "len(pdb_files)"
   ]
  },
  {
   "cell_type": "code",
   "execution_count": 4,
   "metadata": {},
   "outputs": [
    {
     "data": {
      "text/plain": [
       "('1axe', '.pdb')"
      ]
     },
     "execution_count": 4,
     "metadata": {},
     "output_type": "execute_result"
    }
   ],
   "source": [
    "os.path.splitext(os.path.basename(pdb_files[0]))"
   ]
  },
  {
   "cell_type": "code",
   "execution_count": 11,
   "metadata": {},
   "outputs": [
    {
     "data": {
      "text/plain": [
       "6553"
      ]
     },
     "execution_count": 11,
     "metadata": {},
     "output_type": "execute_result"
    }
   ],
   "source": [
    "with open(pdb_files[0], \"r\") as f:\n",
    "    lines = f.readlines();\n",
    "len(lines)"
   ]
  },
  {
   "cell_type": "code",
   "execution_count": 33,
   "metadata": {},
   "outputs": [],
   "source": [
    "Helix_index = [1,5,6]\n",
    "HELIX = {\n",
    "    1 : \"Right-handed alpha      \",\n",
    "    5 : \"Right-handed 310        \",\n",
    "    6 : \"Left-handed Helix       \"\n",
    "}\n",
    "HELIX_length = {\n",
    "    1 : 0,\n",
    "    5 : 0,\n",
    "    6 : 0\n",
    "}\n",
    "SHEET_length = 0\n",
    "total_length = 0\n"
   ]
  },
  {
   "cell_type": "code",
   "execution_count": 34,
   "metadata": {},
   "outputs": [],
   "source": [
    "for line in lines:\n",
    "    if line[:5]==\"HELIX\":\n",
    "        length = int(line[71:76])\n",
    "        helix_type = int(line[38:40])\n",
    "        if helix_type in Helix_index:\n",
    "            HELIX_length[helix_type] += length\n",
    "        total_length += length       "
   ]
  },
  {
   "cell_type": "code",
   "execution_count": 25,
   "metadata": {},
   "outputs": [
    {
     "data": {
      "text/plain": [
       "{1: 141, 5: 79, 6: 0}"
      ]
     },
     "execution_count": 25,
     "metadata": {},
     "output_type": "execute_result"
    }
   ],
   "source": [
    "HELIX_length"
   ]
  },
  {
   "cell_type": "code",
   "execution_count": 26,
   "metadata": {},
   "outputs": [
    {
     "data": {
      "text/plain": [
       "220"
      ]
     },
     "execution_count": 26,
     "metadata": {},
     "output_type": "execute_result"
    }
   ],
   "source": [
    "total_length"
   ]
  },
  {
   "cell_type": "code",
   "execution_count": 35,
   "metadata": {},
   "outputs": [],
   "source": [
    "# all sheet length of a pdb file\n",
    "for line in lines:\n",
    "    if line[:5]==\"SHEET\":\n",
    "        length = int(line[33:37])-int(line[22:26])\n",
    "        SHEET_length += length\n",
    "        total_length += length"
   ]
  },
  {
   "cell_type": "code",
   "execution_count": 28,
   "metadata": {},
   "outputs": [
    {
     "data": {
      "text/plain": [
       "134"
      ]
     },
     "execution_count": 28,
     "metadata": {},
     "output_type": "execute_result"
    }
   ],
   "source": [
    "SHEET_length"
   ]
  },
  {
   "cell_type": "code",
   "execution_count": 29,
   "metadata": {},
   "outputs": [
    {
     "data": {
      "text/plain": [
       "354"
      ]
     },
     "execution_count": 29,
     "metadata": {},
     "output_type": "execute_result"
    }
   ],
   "source": [
    "total_length"
   ]
  },
  {
   "cell_type": "code",
   "execution_count": 36,
   "metadata": {},
   "outputs": [],
   "source": [
    "for key in HELIX_length:\n",
    "    HELIX_length[key] /= total_length\n",
    "SHEET_length /= total_length"
   ]
  },
  {
   "cell_type": "code",
   "execution_count": 37,
   "metadata": {},
   "outputs": [
    {
     "name": "stdout",
     "output_type": "stream",
     "text": [
      "Secondary structure     Abundance\n",
      "Right-handed alpha       0.3983050847457627\n",
      "Right-handed 310         0.2231638418079096\n",
      "Left-handed Helix        0.0\n",
      "SHEET                    0.3785310734463277\n"
     ]
    }
   ],
   "source": [
    "print(\"Secondary structure     Abundance\")\n",
    "for key in HELIX_length:\n",
    "    print(HELIX[key], HELIX_length[key])\n",
    "print(\"SHEET                   \", SHEET_length)"
   ]
  },
  {
   "cell_type": "code",
   "execution_count": 46,
   "metadata": {},
   "outputs": [
    {
     "name": "stdout",
     "output_type": "stream",
     "text": [
      "Secondary structure     Abundance\n",
      "Right-handed alpha       0.6824644549763034\n",
      "Right-handed 310         0.10584518167456557\n",
      "SHEET                    0.21169036334913113\n"
     ]
    }
   ],
   "source": [
    "for pdb_file in pdb_files:\n",
    "    with open(pdb_file, \"r\") as f:\n",
    "        lines = f.readlines();\n",
    "        Helix_index = [1,5]\n",
    "        HELIX = {\n",
    "            1 : \"Right-handed alpha      \",\n",
    "            5 : \"Right-handed 310        \"\n",
    "        }\n",
    "        HELIX_length = {\n",
    "            1 : 0,\n",
    "            5 : 0\n",
    "        }\n",
    "        SHEET_length = 0\n",
    "        total_length = 0\n",
    "        # all helix length of a pdb file\n",
    "        for line in lines:\n",
    "            if line[:5]==\"HELIX\":\n",
    "                length = int(line[71:76])\n",
    "                helix_type = int(line[38:40])\n",
    "                if helix_type in Helix_index:\n",
    "                    HELIX_length[helix_type] += length\n",
    "                total_length += length       \n",
    "        # all sheet length of a pdb file\n",
    "        for line in lines:\n",
    "            if line[:5]==\"SHEET\":\n",
    "                length = int(line[33:37])-int(line[22:26])\n",
    "                SHEET_length += length\n",
    "                total_length += length\n",
    "# Calculate the relativ length\n",
    "for key in HELIX_length:\n",
    "    HELIX_length[key] /= total_length\n",
    "SHEET_length /= total_length\n",
    "# Print the result\n",
    "print(\"Secondary structure     Abundance\")\n",
    "for key in HELIX_length:\n",
    "    print(HELIX[key], HELIX_length[key])\n",
    "print(\"SHEET                   \", SHEET_length)"
   ]
  }
 ],
 "metadata": {
  "kernelspec": {
   "display_name": "py310",
   "language": "python",
   "name": "python3"
  },
  "language_info": {
   "codemirror_mode": {
    "name": "ipython",
    "version": 3
   },
   "file_extension": ".py",
   "mimetype": "text/x-python",
   "name": "python",
   "nbconvert_exporter": "python",
   "pygments_lexer": "ipython3",
   "version": "3.11.3"
  },
  "orig_nbformat": 4
 },
 "nbformat": 4,
 "nbformat_minor": 2
}
