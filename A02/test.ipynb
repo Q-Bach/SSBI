{
 "cells": [
  {
   "cell_type": "code",
   "execution_count": 1,
   "metadata": {
    "collapsed": true
   },
   "outputs": [],
   "source": [
    "from Bio.PDB import PDBParser, PDBIO, internal_coords\n",
    "import numpy as np"
   ]
  },
  {
   "cell_type": "code",
   "execution_count": 7,
   "outputs": [],
   "source": [
    "parser = PDBParser()\n",
    "structure = parser.get_structure(\"5IRE\", \"5ire.pdb\")"
   ],
   "metadata": {
    "collapsed": false
   }
  },
  {
   "cell_type": "code",
   "execution_count": 17,
   "outputs": [],
   "source": [
    "model = structure.child_list[0]"
   ],
   "metadata": {
    "collapsed": false
   }
  },
  {
   "cell_type": "code",
   "execution_count": 19,
   "outputs": [],
   "source": [
    "chain = model.child_list[0]"
   ],
   "metadata": {
    "collapsed": false
   }
  },
  {
   "cell_type": "code",
   "execution_count": 21,
   "outputs": [],
   "source": [
    "residue = chain.child_list[0]"
   ],
   "metadata": {
    "collapsed": false
   }
  },
  {
   "cell_type": "code",
   "execution_count": 69,
   "outputs": [
    {
     "name": "stdout",
     "output_type": "stream",
     "text": [
      "CG1 6\n"
     ]
    }
   ],
   "source": [
    "atom = residue.child_list[5]\n",
    "print(atom.name + \" \" + str(atom.get_serial_number()))"
   ],
   "metadata": {
    "collapsed": false
   }
  },
  {
   "cell_type": "code",
   "execution_count": 48,
   "outputs": [
    {
     "name": "stdout",
     "output_type": "stream",
     "text": [
      "('5IRE', 0, 'A', (' ', 1, ' '), ('N', ' '))\n"
     ]
    }
   ],
   "source": [
    "internal_coords."
   ],
   "metadata": {
    "collapsed": false
   }
  },
  {
   "cell_type": "code",
   "execution_count": 80,
   "outputs": [
    {
     "name": "stdout",
     "output_type": "stream",
     "text": [
      "3.0\n"
     ]
    }
   ],
   "source": [
    "test = np.array([1, 2, 2])\n",
    "test2 = np.array([2, 3, 4])\n",
    "print(np.linalg.norm(test))"
   ],
   "metadata": {
    "collapsed": false
   }
  },
  {
   "cell_type": "code",
   "execution_count": 103,
   "outputs": [],
   "source": [
    "def dihedral(a, b, c, d):\n",
    "    # calculating vectors in plane 1\n",
    "    ba = a - b\n",
    "    bc = c - b\n",
    "    # calculating normal vector of plane 1\n",
    "    n1 = np.cross(ba, bc)\n",
    "    print(n1)\n",
    "\n",
    "    # vectors in plane 2\n",
    "    cb = b - c\n",
    "    cd = d - c\n",
    "    # normal vector of plane 2\n",
    "    n2 = np.cross(cb, cd)\n",
    "    print(n2)\n",
    "\n",
    "    # angle between both planes:\n",
    "    dot_ab = np.dot(n1, n2)\n",
    "    norm_ab = np.linalg.norm(n1)*np.linalg.norm(n2)\n",
    "    alpha = np.arccos(dot_ab/norm_ab)\n",
    "\n",
    "    return alpha*180/np.pi\n"
   ],
   "metadata": {
    "collapsed": false
   }
  },
  {
   "cell_type": "code",
   "execution_count": 16,
   "outputs": [],
   "source": [
    "def dihedral2(a, b, c, d):\n",
    "    # calculating vectors in planes\n",
    "    ab = b - a\n",
    "    bc = c - b\n",
    "    cd = d - c\n",
    "\n",
    "    # calculating normal vectors n1 and n2 of planes:\n",
    "    n1 = np.cross(ab, bc)\n",
    "    n2 = np.cross(bc, cd)\n",
    "    print(\"n1: \" + str(n1))\n",
    "    print(\"n2: \" + str(n2))\n",
    "\n",
    "    # cos(thetha) for planes ab bc and bc cd\n",
    "    cos_theta = (np.dot(n1, n2))/(np.linalg.norm(n1)*np.linalg.norm(n2))\n",
    "    print(\"cos theta: \" + str(cos_theta))\n",
    "\n",
    "    # sin(thetha) for the same planes\n",
    "    sin_theta = np.dot(np.cross(n1, n2), bc)/(np.linalg.norm(n1)*np.linalg.norm(n2)*np.linalg.norm(bc))\n",
    "    print(\"sin theta: \" + str(sin_theta))\n",
    "\n",
    "    # calculating theta\n",
    "    theta = np.arctan2(sin_theta, cos_theta)\n",
    "\n",
    "    return theta*180/np.pi"
   ],
   "metadata": {
    "collapsed": false
   }
  },
  {
   "cell_type": "code",
   "execution_count": 34,
   "outputs": [
    {
     "name": "stdout",
     "output_type": "stream",
     "text": [
      "n1: [0 0 1]\n",
      "n2: [ 0.   0.1 -1. ]\n",
      "cos theta: -0.9950371902099893\n",
      "sin theta: -0.09950371902099893\n",
      "-174.28940686250036\n"
     ]
    }
   ],
   "source": [
    "a = np.array([0, 1, 0])\n",
    "b = np.array([0, 0, 0])\n",
    "c = np.array([1, 0, 0])\n",
    "d = np.array([1, -1, -0.1])\n",
    "print(dihedral2(a, b, c, d))"
   ],
   "metadata": {
    "collapsed": false
   }
  }
 ],
 "metadata": {
  "kernelspec": {
   "display_name": "Python 3",
   "language": "python",
   "name": "python3"
  },
  "language_info": {
   "codemirror_mode": {
    "name": "ipython",
    "version": 2
   },
   "file_extension": ".py",
   "mimetype": "text/x-python",
   "name": "python",
   "nbconvert_exporter": "python",
   "pygments_lexer": "ipython2",
   "version": "2.7.6"
  }
 },
 "nbformat": 4,
 "nbformat_minor": 0
}
