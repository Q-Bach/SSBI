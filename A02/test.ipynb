{
 "cells": [
  {
   "cell_type": "code",
   "execution_count": 82,
   "metadata": {
    "collapsed": true
   },
   "outputs": [],
   "source": [
    "from Bio.PDB import PDBParser, PDBIO, internal_coords\n",
    "import numpy as np\n",
    "import matplotlib.pyplot as plt"
   ]
  },
  {
   "cell_type": "code",
   "execution_count": 35,
   "outputs": [],
   "source": [
    "parser = PDBParser()\n",
    "structure = parser.get_structure(\"5IRE\", \"5ire.pdb\")"
   ],
   "metadata": {
    "collapsed": false
   }
  },
  {
   "cell_type": "code",
   "execution_count": 48,
   "outputs": [],
   "source": [
    "model = structure.child_list[0]"
   ],
   "metadata": {
    "collapsed": false
   }
  },
  {
   "cell_type": "code",
   "execution_count": 49,
   "outputs": [],
   "source": [
    "chain = model.child_list[0]"
   ],
   "metadata": {
    "collapsed": false
   }
  },
  {
   "cell_type": "code",
   "execution_count": 72,
   "outputs": [],
   "source": [
    "def dihedral(a, b, c, d):\n",
    "    # calculating vectors in planes\n",
    "    ab = b - a\n",
    "    bc = c - b\n",
    "    cd = d - c\n",
    "\n",
    "    # calculating normal vectors n1 and n2 of planes:\n",
    "    n1 = np.cross(ab, bc)\n",
    "    n2 = np.cross(bc, cd)\n",
    "    #print(\"n1: \" + str(n1))\n",
    "    #print(\"n2: \" + str(n2))\n",
    "\n",
    "    # cos(thetha) for planes ab bc and bc cd\n",
    "    cos_theta = (np.dot(n1, n2))/(np.linalg.norm(n1)*np.linalg.norm(n2))\n",
    "    #print(\"cos theta: \" + str(cos_theta))\n",
    "\n",
    "    # sin(thetha) for the same planes\n",
    "    sin_theta = np.dot(np.cross(n1, n2), bc)/(np.linalg.norm(n1)*np.linalg.norm(n2)*np.linalg.norm(bc))\n",
    "    #print(\"sin theta: \" + str(sin_theta))\n",
    "\n",
    "    # calculating theta\n",
    "    theta = np.arctan2(sin_theta, cos_theta)\n",
    "\n",
    "    return theta*180/np.pi"
   ],
   "metadata": {
    "collapsed": false
   }
  },
  {
   "cell_type": "code",
   "execution_count": 100,
   "outputs": [
    {
     "data": {
      "text/plain": "<Figure size 432x288 with 1 Axes>",
      "image/png": "[encoded data removed]"
     },
     "metadata": {
      "needs_background": "light"
     },
     "output_type": "display_data"
    },
    {
     "data": {
      "text/plain": "<Figure size 1440x1440 with 0 Axes>"
     },
     "metadata": {},
     "output_type": "display_data"
    }
   ],
   "source": [
    "phi_psi = []\n",
    "for model in structure.get_models():\n",
    "    for chain in model.get_chains():\n",
    "        aa1 = None\n",
    "        aa2 = None\n",
    "        for aa0 in chain.get_residues():\n",
    "            if aa1 and aa2: # only true for fully enclosed amino acids (not first and last)\n",
    "                CA_prev = aa2.child_dict[\"CA\"].get_coord()\n",
    "                N = aa1.child_dict[\"N\"].get_coord()\n",
    "                CA = aa1.child_dict[\"CA\"].get_coord()\n",
    "                C = aa1.child_dict[\"C\"].get_coord()\n",
    "                N_next = aa0.child_dict[\"N\"].get_coord()\n",
    "                phi = dihedral(CA_prev, N, CA, C)\n",
    "                psi = dihedral(N, CA, C, N_next)\n",
    "                phi_psi.append([phi, psi])\n",
    "            aa2 = aa1\n",
    "            aa1 = aa0\n",
    "plt.scatter([phi[0] for phi in phi_psi], [psi[1] for psi in phi_psi], marker='.')\n",
    "plt.title(\"Ramachandran Plot\")\n",
    "plt.xlabel(\"phi\")\n",
    "plt.ylabel(\"psi\")\n",
    "plt.xlim([-180, 180])\n",
    "plt.ylim([-180, 180])\n",
    "plt.xticks([-180, -90, 0, 90, 180])\n",
    "plt.yticks([-180, -90, 0, 90, 180])\n",
    "ax = plt.gca()\n",
    "ax.set_aspect('equal', adjustable='box')\n",
    "plt.figure(figsize=(20,20))\n",
    "plt.savefig('test.pdf')"
   ],
   "metadata": {
    "collapsed": false
   }
  },
  {
   "cell_type": "code",
   "execution_count": 103,
   "outputs": [],
   "source": [
    "def dihedral(a, b, c, d):\n",
    "    # calculating vectors in plane 1\n",
    "    ba = a - b\n",
    "    bc = c - b\n",
    "    # calculating normal vector of plane 1\n",
    "    n1 = np.cross(ba, bc)\n",
    "\n",
    "    # vectors in plane 2\n",
    "    cb = b - c\n",
    "    cd = d - c\n",
    "    # normal vector of plane 2\n",
    "    n2 = np.cross(cb, cd)\n",
    "\n",
    "    # angle between both planes:\n",
    "    dot_ab = np.dot(n1, n2)\n",
    "    norm_ab = np.linalg.norm(n1)*np.linalg.norm(n2)\n",
    "    alpha = np.arccos(dot_ab/norm_ab)\n",
    "\n",
    "    return alpha*180/np.pi\n"
   ],
   "metadata": {
    "collapsed": false
   }
  }
 ],
 "metadata": {
  "kernelspec": {
   "display_name": "Python 3",
   "language": "python",
   "name": "python3"
  },
  "language_info": {
   "codemirror_mode": {
    "name": "ipython",
    "version": 2
   },
   "file_extension": ".py",
   "mimetype": "text/x-python",
   "name": "python",
   "nbconvert_exporter": "python",
   "pygments_lexer": "ipython2",
   "version": "2.7.6"
  }
 },
 "nbformat": 4,
 "nbformat_minor": 0
}
