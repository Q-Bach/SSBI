{
 "cells": [
  {
   "cell_type": "code",
   "execution_count": 3,
   "metadata": {},
   "outputs": [],
   "source": [
    "import numpy as np"
   ]
  },
  {
   "cell_type": "code",
   "execution_count": 4,
   "metadata": {},
   "outputs": [],
   "source": [
    "# helix p_alpha relative probabilities\n",
    "p_a = {\n",
    "    'E': 1.53, 'A': 1.45, 'L': 1.34, 'H': 1.24, 'M': 1.20, 'Q': 1.17, 'W': 1.14, 'V': 1.14, 'F': 1.12,  # builders\n",
    "    'K': 1.07, 'I': 1.00, 'D': 0.98, 'T': 0.82, 'S': 0.79, 'R': 0.79, 'C': 0.77,  # indifferent\n",
    "    'N': 0.73, 'Y': 0.61, 'P': 0.59, 'G': 0.53  # breakers\n",
    "}\n",
    "\n",
    "# helix builder/indifferent/breaker class weights\n",
    "w_a = {aa: (1 if score > 1.1 else -1 if score < 0.75 else 0.5) for aa, score in p_a.items()}\n",
    "\n",
    "# strand p_beta relative probabilities\n",
    "p_b = {\n",
    "    'M': 1.67, 'V': 1.65, 'I': 1.60, 'C': 1.30, 'Y': 1.29, 'F': 1.28, 'Q': 1.23,  'L': 1.22, 'T': 1.20, 'W': 1.19,  # builders\n",
    "    'A': 0.97, 'R': 0.90, 'G': 0.81, 'D': 0.80,  # indifferent\n",
    "    'K': 0.74, 'S': 0.72, 'H': 0.71, 'N': 0.65, 'P': 0.62, 'E': 0.26  # breakers\n",
    "}\n",
    "\n",
    "# strand builder/indifferent/breaker class weights\n",
    "# changed to 2/0/-1 encoding for convenience, so that a window of 5 is a strand core if sum(window) >= 5.\n",
    "w_b = {aa: (2 if score > 1 else -1 if score < 0.78 else 0) for aa, score in p_b.items()}\n",
    "\n",
    "# sequence of 5JXV\n",
    "seq    = 'MQYKLILNGKTLKGETTTEAVDAATAEKVFKQYANDNGVDGEWTYDDATKTFTVTE'\n",
    "ss_ref = '-SSSSSSS----SSSSSSS---HHHHHHHHHHHHHH-----SSSSS----SSSSS-'\n",
    "he_ref = '--------------HHHHHHHHHHHHHHHHHH------------HHHHHHHHHHHH'\n",
    "sh_ref = 'SSSSSSSSS----SSSSSSSS------SSSSSSSS-----SSSSSSSSSSSSSSSS'\n",
    "pred   = 'SSSSSSSSS----SHHHHHHHHHHHHHSSSSSSSS-----SSSSSSSSSSSSSSSS'\n",
    "\n",
    "# reference secondary structure for accuracy calculation\n",
    "ss_ref = '-SSSSSSS----SSSSSSS---HHHHHHHHHHHHHH-----SSSSS----SSSSS-'\n",
    "he_ref = '--------------HHHHHHHHHHHHHHHHHH------------HHHHHHHHHHH-'\n",
    "sh_ref = 'SSSSSSSSS----SSSSSSSS------SSSSSSSS-----SSSSSSSSSSSSSSSS'"
   ]
  },
  {
   "cell_type": "code",
   "execution_count": 18,
   "metadata": {},
   "outputs": [],
   "source": [
    "def find_helix(seq):\n",
    "    seq_length = len(seq)\n",
    "    # Generate an array containing score for every aa in the sequence\n",
    "    weights = []\n",
    "    probability = []\n",
    "    helix = [\"-\" for _ in range(seq_length)]\n",
    "    for i in range (0, seq_length):\n",
    "        weights.append(w_a[seq[i]])\n",
    "        probability.append(p_a[seq[i]])\n",
    "    for i in range(0, seq_length-6):\n",
    "        weight = np.sum(weights[i:i+6])\n",
    "        if weight >= 4:\n",
    "            # extend left bond\n",
    "            if i > 0:\n",
    "                left_bound = i-1\n",
    "                while (np.sum(probability[left_bound:left_bound+4])>4):\n",
    "                    if left_bound >= 0:\n",
    "                        left_bound -= 1\n",
    "                    else: \n",
    "                        break\n",
    "            else:\n",
    "                left_bound = i\n",
    "            if i+7 < seq_length:\n",
    "                right_bound = i+7\n",
    "                while(np.sum(probability[right_bound-4:right_bound])>4):\n",
    "                    if right_bound <= seq_length:\n",
    "                        right_bound += 1\n",
    "                    else:\n",
    "                        break\n",
    "            else: \n",
    "                right_bound = seq_length\n",
    "            for j in range(left_bound+1, right_bound-1):\n",
    "                helix[j] = \"H\"\n",
    "    return helix\n",
    "\n",
    "def find_strands(seq):\n",
    "    seq_length = len(seq)\n",
    "    # Generate an array containing score for every aa in the sequence\n",
    "    weights = []\n",
    "    probability = []\n",
    "    sheet = ['-' for _ in range(seq_length)]\n",
    "    for i in range (0, seq_length):\n",
    "        weights.append(w_b[seq[i]])\n",
    "        probability.append(p_b[seq[i]])\n",
    "    for i in range(0, seq_length-5):\n",
    "        weight = np.sum(weights[i:i+5])\n",
    "        if weight >= 5:\n",
    "            # extend left bond\n",
    "            if i-1>=0:\n",
    "                left_bound = i-1\n",
    "                while (np.sum(probability[left_bound:left_bound+4]) > 4):\n",
    "                    if left_bound >= 0:\n",
    "                        left_bound -= 1\n",
    "                    else: \n",
    "                        break\n",
    "            else:\n",
    "                left_bound = i\n",
    "            if i + 6 <=seq_length:\n",
    "                right_bound = i+6\n",
    "                while(np.sum(probability[right_bound-4:right_bound])>4):\n",
    "                    if right_bound <= seq_length:\n",
    "                        right_bound += 1\n",
    "                    else:\n",
    "                        break\n",
    "            else: \n",
    "                right_bound = seq_length\n",
    "            for j in range(left_bound+1, right_bound-1):\n",
    "                sheet[j] = 'S'\n",
    "    return sheet"
   ]
  },
  {
   "cell_type": "code",
   "execution_count": 19,
   "metadata": {},
   "outputs": [
    {
     "name": "stdout",
     "output_type": "stream",
     "text": [
      "--------------HHHHHHHHHHHHHHHHHH------------HHHHHHHHHHH-\n"
     ]
    }
   ],
   "source": [
    "print(''.join(find_helix(seq)))"
   ]
  },
  {
   "cell_type": "code",
   "execution_count": 20,
   "metadata": {},
   "outputs": [
    {
     "name": "stdout",
     "output_type": "stream",
     "text": [
      "SSSSSSSSS----SSSSSSSS------SSSSSSSS-----SSSSSSSSSSSSSSSS\n"
     ]
    }
   ],
   "source": [
    "print(''.join(find_strands(seq)))"
   ]
  },
  {
   "cell_type": "code",
   "execution_count": 37,
   "metadata": {},
   "outputs": [
    {
     "name": "stdout",
     "output_type": "stream",
     "text": [
      "6\n",
      "6.74\n"
     ]
    }
   ],
   "source": [
    "temp_seq = 'ETTTEAV'\n",
    "w = 0\n",
    "p = 0\n",
    "for i in temp_seq:\n",
    "    w += w_b[i]\n",
    "    p += p_b[i]\n",
    "print(w)\n",
    "print(p)"
   ]
  },
  {
   "cell_type": "code",
   "execution_count": 38,
   "metadata": {},
   "outputs": [
    {
     "name": "stdout",
     "output_type": "stream",
     "text": [
      "5.5\n",
      "8.11\n"
     ]
    }
   ],
   "source": [
    "temp_seq = 'ETTTEAV'\n",
    "w = 0\n",
    "p = 0\n",
    "for i in temp_seq:\n",
    "    w += w_a[i]\n",
    "    p += p_a[i]\n",
    "print(w)\n",
    "print(p)"
   ]
  },
  {
   "cell_type": "code",
   "execution_count": 39,
   "metadata": {},
   "outputs": [],
   "source": [
    "def find_helix_(seq):\n",
    "    seq_length = len(seq)\n",
    "    # Generate an array containing score for every aa in the sequence\n",
    "    weights = []\n",
    "    probability = []\n",
    "    helix = [\"-\" for _ in range(seq_length)]\n",
    "    for i in range (0, seq_length):\n",
    "        weights.append(w_a[seq[i]])\n",
    "        probability.append(p_a[seq[i]])\n",
    "    for i in range(0, seq_length-6):\n",
    "        weight = np.sum(weights[i:i+6])\n",
    "        if weight >= 4:\n",
    "            # extend left bond\n",
    "            left_bound = i\n",
    "            while True:\n",
    "                if left_bound-1<0 or left_bound+3>seq_length:\n",
    "                    break\n",
    "                elif  (np.sum(probability[left_bound-1:left_bound+3]) >= 4):\n",
    "                    left_bound -= 1\n",
    "                else:\n",
    "                    break\n",
    "            right_bound = i+6\n",
    "            while True:\n",
    "                if right_bound-3<0 or right_bound+1>seq_length:\n",
    "                    break\n",
    "                elif (np.sum(probability[right_bound-3:right_bound+1])>=4):\n",
    "                    right_bound += 1\n",
    "                else:\n",
    "                    break\n",
    "            for j in range(left_bound, right_bound):\n",
    "                helix[j] = \"H\"\n",
    "    return helix\n",
    "\n",
    "def find_strands_(seq):\n",
    "    seq_length = len(seq)\n",
    "    # Generate an array containing score for every aa in the sequence\n",
    "    weights = []\n",
    "    probability = []\n",
    "    sheet = ['-' for _ in range(seq_length)]\n",
    "    for i in range (0, seq_length):\n",
    "        weights.append(w_b[seq[i]])\n",
    "        probability.append(p_b[seq[i]])\n",
    "    for i in range(0, seq_length-5):\n",
    "        weight = np.sum(weights[i:i+5])\n",
    "        if weight >= 5:\n",
    "            # extend left bond\n",
    "            left_bound = i\n",
    "            while True:\n",
    "                if left_bound-1<0 or left_bound+3>seq_length:\n",
    "                    break\n",
    "                elif  (np.sum(probability[left_bound-1:left_bound+3]) >= 4):\n",
    "                    left_bound -= 1\n",
    "                else:\n",
    "                    break\n",
    "            right_bound = i+5\n",
    "            while True:\n",
    "                if right_bound-3<0 or right_bound+1>seq_length:\n",
    "                    break\n",
    "                elif (np.sum(probability[right_bound-3:right_bound+1])>=4):\n",
    "                    right_bound += 1\n",
    "                else:\n",
    "                    break\n",
    "            for j in range(left_bound, right_bound):\n",
    "                sheet[j] = 'S'\n",
    "    return sheet"
   ]
  },
  {
   "cell_type": "code",
   "execution_count": 40,
   "metadata": {},
   "outputs": [
    {
     "name": "stdout",
     "output_type": "stream",
     "text": [
      "--------------HHHHHHHHHHHHHHHHHH------------HHHHHHHHHHHH\n"
     ]
    }
   ],
   "source": [
    "print(''.join(find_helix_(seq)))"
   ]
  },
  {
   "cell_type": "code",
   "execution_count": 41,
   "metadata": {},
   "outputs": [
    {
     "name": "stdout",
     "output_type": "stream",
     "text": [
      "SSSSSSSSS----SSSSSSSS------SSSSSSSS-----SSSSSSSSSSSSSSSS\n"
     ]
    }
   ],
   "source": [
    "print(''.join(find_strands_(seq)))"
   ]
  },
  {
   "cell_type": "code",
   "execution_count": 43,
   "metadata": {},
   "outputs": [
    {
     "name": "stdout",
     "output_type": "stream",
     "text": [
      "SSSSSSSSS----SHHHHHHHHHHHHHSSSSSSSS-----SSSSSSSSSSSSSSSS\n"
     ]
    }
   ],
   "source": [
    "he = find_helix_(seq)\n",
    "st = find_strands_(seq)\n",
    "pred = []\n",
    "i = 0\n",
    "while i < len(seq):\n",
    "    if(he[i]=='H' and st[i]=='S'):\n",
    "        end = i+1\n",
    "        if end < len(seq):\n",
    "            while(he[end]=='H' and st[end]=='S'):\n",
    "                end += 1\n",
    "                if end >= len(seq):\n",
    "                    break\n",
    "        p_h = 0\n",
    "        p_s = 0\n",
    "        for j in range(i,end):\n",
    "            p_h += p_a[seq[j]]\n",
    "            p_s += p_b[seq[j]]\n",
    "        if p_h > p_s:\n",
    "            for _ in range(i, end):\n",
    "                pred.append('H') \n",
    "        else:\n",
    "            for _ in range(i, end):\n",
    "                pred.append('S')\n",
    "        i = end\n",
    "    elif(he[i]=='H' and st[i]!='S'):\n",
    "        pred.append('H')\n",
    "        i += 1\n",
    "    elif(st[i]=='S'and he[i]!='H'):\n",
    "        pred.append('S')\n",
    "        i += 1\n",
    "    else:\n",
    "        pred.append('-')\n",
    "        i += 1\n",
    "pred = ''.join(pred)"
   ]
  },
  {
   "cell_type": "code",
   "execution_count": 44,
   "metadata": {},
   "outputs": [
    {
     "name": "stdout",
     "output_type": "stream",
     "text": [
      "0.4107142857142857\n"
     ]
    }
   ],
   "source": [
    "counter = 0\n",
    "for i in range(len(pred)):\n",
    "    if (pred[i]==ss_ref[i] and pred[i]!='-'):\n",
    "        counter += 1\n",
    "sim = counter / len(pred)\n",
    "print(sim) "
   ]
  },
  {
   "cell_type": "code",
   "execution_count": 45,
   "metadata": {},
   "outputs": [
    {
     "data": {
      "text/plain": [
       "23"
      ]
     },
     "execution_count": 45,
     "metadata": {},
     "output_type": "execute_result"
    }
   ],
   "source": [
    "counter"
   ]
  },
  {
   "cell_type": "code",
   "execution_count": 46,
   "metadata": {},
   "outputs": [
    {
     "data": {
      "text/plain": [
       "56"
      ]
     },
     "execution_count": 46,
     "metadata": {},
     "output_type": "execute_result"
    }
   ],
   "source": [
    "len(pred)"
   ]
  }
 ],
 "metadata": {
  "kernelspec": {
   "display_name": "py3113",
   "language": "python",
   "name": "python3"
  },
  "language_info": {
   "codemirror_mode": {
    "name": "ipython",
    "version": 3
   },
   "file_extension": ".py",
   "mimetype": "text/x-python",
   "name": "python",
   "nbconvert_exporter": "python",
   "pygments_lexer": "ipython3",
   "version": "3.11.3"
  },
  "orig_nbformat": 4
 },
 "nbformat": 4,
 "nbformat_minor": 2
}
