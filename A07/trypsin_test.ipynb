{
 "cells": [
  {
   "cell_type": "code",
   "execution_count": 5,
   "metadata": {
    "collapsed": true
   },
   "outputs": [],
   "source": [
    "from Bio import SeqIO"
   ]
  },
  {
   "cell_type": "code",
   "execution_count": 7,
   "outputs": [
    {
     "name": "stdout",
     "output_type": "stream",
     "text": [
      "MSTAGKVIKCKAAVLWELKKPFSIEEVEVAPPKAHEVRIKMVAVGICGTDDHVVSGTMVTPLPVILGHEAAGIVESVGEGVTTVKPGDKVIPLAIPQCGKCRICKNPESNYCLKNDVSNPQGTLQDGTSRFTCRRKPIHHFLGISTFSQYTVVDENAVAKIDAASPLEKVCLIGCGFSTGYGSAVNVAKVTPGSTCAVFGLGGVGLSAIMGCKAAGAARIIAVDINKDKFAKAKELGATECINPQDYKKPIQEVLKEMTDGGVDFSFEVIGRLDTMMASLLCCHEACGTSVIVGVPPDSQNLSMNPMLLLTGRTWKGAILGGFKSKECVPKLVADFMAKKFSLDALITHVLPFEKINEGFDLLHSGKSIRTILMF\n",
      "38\n",
      "MVAVGICGTDDHVVSGTMVTPLPVILGHEAAGIVESVGEGVTTVKPGDK   4841.4652  4844.5893\n",
      "LDTMMASLLCCHEACGTSVIVGVPPDSQNLSMNPMLLLTGR           4317.0468  4320.1269\n",
      "KPIHHFLGISTFSQYTVVDENAVAK                           2800.4548  2802.1830\n",
      "VTPGSTCAVFGLGGVGLSAIMGCK                            2224.1054  2225.6652\n",
      "VCLIGCGFSTGYGSAVNVAK                                1944.9437  1946.2674\n",
      "NDVSNPQGTLQDGTSR                                    1687.7761  1688.7288\n",
      "EMTDGGVDFSFEVIGR                                    1757.7930  1758.9211\n",
      "FSLDALITHVLPFEK                                     1728.9450  1730.0375\n",
      "KPFSIEEVEVAPPK                                      1568.8449  1569.8190\n",
      "ELGATECINPQDYK                                      1579.7188  1580.7303\n",
      "INEGFDLLHSGK                                        1328.6724  1329.4759\n",
      "VIPLAIPQCGK                                         1137.6580  1138.4345\n",
      "NPESNYCLK                                           1066.4753  1067.1823\n",
      "IDAASPLEK                                            942.5022   943.0655\n",
      "AAVLWELK                                             928.5382   929.1278\n",
      "IIAVDINK                                             884.5331   885.0721\n",
      "KPIQEVLK                                             953.5909   954.1785\n",
      "GAILGGFK                                             761.4435   761.9200\n",
      "LVADFMAK                                             893.4680   894.0975\n",
      "MSTAGK                                               593.2843   593.6967\n",
      "AAGAAR                                               515.2816   515.5706\n",
      "AHEVR                                                610.3187   610.6715\n",
      "ECVPK                                                574.2785   574.6937\n",
      "TILMF                                                623.3352   623.8091\n",
      "FTCR                                                 525.2369   525.6240\n",
      "VIK                                                  358.2580   358.4821\n",
      "ICK                                                  362.1988   362.4883\n",
      "FAK                                                  364.2110   364.4455\n",
      "TWK                                                  433.2325   433.5084\n",
      "SIR                                                  374.2278   374.4411\n",
      "CK                                                   249.1147   249.3289\n",
      "IK                                                   259.1896   259.3495\n",
      "CR                                                   277.1209   277.3423\n",
      "DK                                                   261.1324   261.2787\n",
      "AK                                                   217.1426   217.2689\n",
      "SK                                                   233.1375   233.2683\n",
      "R                                                    174.1117   174.2035\n",
      "K                                                    146.1055   146.1901\n"
     ]
    }
   ],
   "source": [
    "with open(\"P07327.fasta\", \"r\") as f:\n",
    "    sequence = SeqIO.read(f, format=\"fasta\")\n",
    "\n",
    "print(sequence.seq)\n",
    "SeqIO.SeqRecord.\n",
    "print(len(trypsin(str(sequence.seq))))\n",
    "for peptide in trypsin(str(sequence.seq)):\n",
    "    print(\"{:50s} {:10.4f} {:10.4f}\".format(peptide, monoisotopic_mass(peptide), average_mass(peptide)))"
   ],
   "metadata": {
    "collapsed": false
   }
  },
  {
   "cell_type": "code",
   "execution_count": 1,
   "outputs": [],
   "source": [
    "def trypsin(seq: str) -> []:\n",
    "    \"\"\"\n",
    "    Function to predict the peptides resulting from a\n",
    "    tryptic digestion of a protein.\n",
    "    :param seq: input protein sequence\n",
    "    :return: List of peptides\n",
    "    \"\"\"\n",
    "\n",
    "    seq = seq.upper()\n",
    "    peptides = []\n",
    "    prev_cut = -1\n",
    "    for i in range(len(seq)):\n",
    "        aa = seq[i]\n",
    "        aa_next = seq[i+1] if i+1 < len(seq) else \"\"\n",
    "        if (aa == \"R\" or aa == \"K\") and aa_next != \"P\":\n",
    "            peptides.append(seq[prev_cut+1:i+1])\n",
    "            prev_cut = i\n",
    "    if prev_cut+1 != len(seq):\n",
    "        peptides.append(seq[prev_cut+1:])\n",
    "\n",
    "    return sorted(peptides, key=lambda x: len(x), reverse=True)"
   ],
   "metadata": {
    "collapsed": false
   }
  },
  {
   "cell_type": "code",
   "execution_count": 2,
   "outputs": [],
   "source": [
    "def monoisotopic_mass(peptide: str) -> float:\n",
    "    \"\"\"\n",
    "    Calculates the monoisotopic mass of a peptide.\n",
    "    :param peptide: Sequence of the peptide\n",
    "    :return: monoisotopic mass of the peptide\n",
    "    \"\"\"\n",
    "    # Table of monoisotopic masses from https://education.expasy.org/student_projects/isotopident/htdocs/aa-list.html\n",
    "    aa_mass = {\n",
    "        \"A\": 71.03711,\n",
    "        \"R\": 156.10111,\n",
    "        \"N\": 114.04293,\n",
    "        \"D\": 115.02694,\n",
    "        \"C\": 103.00919,\n",
    "        \"E\": 129.04259,\n",
    "        \"Q\": 128.05858,\n",
    "        \"G\": 57.02146,\n",
    "        \"H\": 137.05891,\n",
    "        \"I\": 113.08406,\n",
    "        \"L\": 113.08406,\n",
    "        \"K\": 128.09496,\n",
    "        \"M\": 131.04049,\n",
    "        \"F\": 147.06841,\n",
    "        \"P\": 97.05276,\n",
    "        \"S\": 87.03203,\n",
    "        \"T\": 101.04768,\n",
    "        \"W\": 186.07931,\n",
    "        \"Y\": 163.06333,\n",
    "        \"V\": 99.06841\n",
    "    }\n",
    "\n",
    "    peptide = peptide.upper()\n",
    "    mass = 15.99491 + 2*1.00782 # monoisotopic mass of water (C and N-terminus)\n",
    "    # iterating over amino acids:\n",
    "    for aa in peptide:\n",
    "        if aa in aa_mass.keys():\n",
    "            mass += aa_mass.get(aa)\n",
    "\n",
    "    return(mass)"
   ],
   "metadata": {
    "collapsed": false
   }
  },
  {
   "cell_type": "code",
   "execution_count": 3,
   "outputs": [],
   "source": [
    "def average_mass(peptide: str) -> float:\n",
    "    \"\"\"\n",
    "    Calculates the average mass of a peptide.\n",
    "    :param peptide: Sequence of the peptide\n",
    "    :return: average mass of the peptide\n",
    "    \"\"\"\n",
    "    # Table of average masses from https://education.expasy.org/student_projects/isotopident/htdocs/aa-list.html\n",
    "    aa_mass = {\n",
    "        \"A\": 71.0788,\n",
    "        \"R\": 156.1875,\n",
    "        \"N\": 114.1038,\n",
    "        \"D\": 115.0886,\n",
    "        \"C\": 103.1388,\n",
    "        \"E\": 129.1155,\n",
    "        \"Q\": 128.1307,\n",
    "        \"G\": 57.0519,\n",
    "        \"H\": 137.1411,\n",
    "        \"I\": 113.1594,\n",
    "        \"L\": 113.1594,\n",
    "        \"K\": 128.1741,\n",
    "        \"M\": 131.1926,\n",
    "        \"F\": 147.1766,\n",
    "        \"P\": 97.1167,\n",
    "        \"S\": 87.0782,\n",
    "        \"T\": 101.1051,\n",
    "        \"W\": 186.2132,\n",
    "        \"Y\": 163.1760,\n",
    "        \"V\": 99.1326\n",
    "    }\n",
    "\n",
    "    peptide = peptide.upper()\n",
    "    mass = 15.99977 + 2*1.00811 # average mass of water (C and N-terminus)\n",
    "    # iterating over amino acids:\n",
    "    for aa in peptide:\n",
    "        if aa in aa_mass.keys():\n",
    "            mass += aa_mass.get(aa)\n",
    "\n",
    "    return(mass)"
   ],
   "metadata": {
    "collapsed": false
   }
  }
 ],
 "metadata": {
  "kernelspec": {
   "display_name": "Python 3",
   "language": "python",
   "name": "python3"
  },
  "language_info": {
   "codemirror_mode": {
    "name": "ipython",
    "version": 2
   },
   "file_extension": ".py",
   "mimetype": "text/x-python",
   "name": "python",
   "nbconvert_exporter": "python",
   "pygments_lexer": "ipython2",
   "version": "2.7.6"
  }
 },
 "nbformat": 4,
 "nbformat_minor": 0
}
