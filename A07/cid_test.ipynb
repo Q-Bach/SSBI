{
 "cells": [
  {
   "cell_type": "code",
   "execution_count": 10,
   "metadata": {},
   "outputs": [],
   "source": [
    "import numpy as np\n",
    "from Bio import SeqIO"
   ]
  },
  {
   "cell_type": "code",
   "execution_count": 11,
   "metadata": {},
   "outputs": [],
   "source": [
    "# Table of monoisotopic masses from https://education.expasy.org/student_projects/isotopident/htdocs/aa-list.html\n",
    "aa_mass = {\n",
    "    \"A\": 71.03711,\n",
    "    \"R\": 156.10111,\n",
    "    \"N\": 114.04293,\n",
    "    \"D\": 115.02694,\n",
    "    \"C\": 103.00919,\n",
    "    \"E\": 129.04259,\n",
    "    \"Q\": 128.05858,\n",
    "    \"G\": 57.02146,\n",
    "    \"H\": 137.05891,\n",
    "    \"I\": 113.08406,\n",
    "    \"L\": 113.08406,\n",
    "    \"K\": 128.09496,\n",
    "    \"M\": 131.04049,\n",
    "    \"F\": 147.06841,\n",
    "    \"P\": 97.05276,\n",
    "    \"S\": 87.03203,\n",
    "    \"T\": 101.04768,\n",
    "    \"W\": 186.07931,\n",
    "    \"Y\": 163.06333,\n",
    "    \"V\": 99.06841\n",
    "}\n",
    "\n",
    "atom_mass = {\n",
    "    \"H\": 1.00782,\n",
    "    \"O\": 15.99491\n",
    "}\n",
    "\n",
    "seq = \"HFEEDMGRK\""
   ]
  },
  {
   "cell_type": "code",
   "execution_count": 12,
   "metadata": {},
   "outputs": [],
   "source": [
    "def b_y_mass(seq):\n",
    "    # Calculate the mass of all possible b and y ions\n",
    "    b_masses = [] \n",
    "    y_masses = []\n",
    "    for i in range(len(seq)):\n",
    "        b_mass = 0\n",
    "        y_mass = 0\n",
    "        for j in seq[:i+1]:\n",
    "            b_mass += aa_mass[j]\n",
    "        for k in seq[-i-1:]:\n",
    "            y_mass += aa_mass[k]\n",
    "        b_mass += atom_mass[\"H\"] # The weight in the table does not contain H+ and OH-, for b ions, we add H+ to it\n",
    "        y_mass += 3 * atom_mass[\"H\"] + atom_mass[\"O\"] # Add 2 H+ and 1 OH-\n",
    "        b_masses.append(b_mass)\n",
    "        y_masses.append(y_mass)\n",
    "    return b_masses, y_masses\n",
    "    "
   ]
  },
  {
   "cell_type": "code",
   "execution_count": 13,
   "metadata": {},
   "outputs": [],
   "source": [
    "b_mass, y_mass = b_y_mass(seq)"
   ]
  },
  {
   "cell_type": "code",
   "execution_count": 14,
   "metadata": {},
   "outputs": [
    {
     "name": "stdout",
     "output_type": "stream",
     "text": [
      "Seq | No. |     B     |    m/z    \n",
      "----------------------------------\n",
      "H   |    1|  138.06673|  138.06673\n",
      "F   |    2|  285.13514|  285.13514\n",
      "E   |    3|  414.17773|  414.17773\n",
      "E   |    4|  543.22032|  543.22032\n",
      "D   |    5|  658.24726|  658.24726\n",
      "M   |    6|  789.28775|  789.28775\n",
      "G   |    7|  846.30921|  846.30921\n",
      "R   |    8| 1002.41032| 1002.41032\n",
      "K   |    9| 1130.50528| 1130.50528\n"
     ]
    }
   ],
   "source": [
    "print(\"Seq | No. |     B     |    m/z    \")\n",
    "print(\"----------------------------------\")\n",
    "for i in range(len(seq)):\n",
    "    print(f\"{seq[i]:4}|{i+1:5}|{b_mass[i]:11.9}|{b_mass[i]/1:11.9}\")"
   ]
  },
  {
   "cell_type": "code",
   "execution_count": 15,
   "metadata": {},
   "outputs": [
    {
     "name": "stdout",
     "output_type": "stream",
     "text": [
      "Seq & No. &     B     &    m/z    \\\\\n",
      "----------------------------------\n",
      "H   &    1&  138.06673&  138.06673 \\\\\n",
      "F   &    2&  285.13514&  285.13514 \\\\\n",
      "E   &    3&  414.17773&  414.17773 \\\\\n",
      "E   &    4&  543.22032&  543.22032 \\\\\n",
      "D   &    5&  658.24726&  658.24726 \\\\\n",
      "M   &    6&  789.28775&  789.28775 \\\\\n",
      "G   &    7&  846.30921&  846.30921 \\\\\n",
      "R   &    8& 1002.41032& 1002.41032 \\\\\n",
      "K   &    9& 1130.50528& 1130.50528 \\\\\n"
     ]
    }
   ],
   "source": [
    "print(\"Seq & No. &     B     &    m/z    \\\\\\\\\")\n",
    "print(\"----------------------------------\")\n",
    "for i in range(len(seq)):\n",
    "    print(f\"{seq[i]:4}&{i+1:5}&{b_mass[i]:11.9}&{b_mass[i]/1:11.9} \\\\\\\\\")"
   ]
  },
  {
   "cell_type": "code",
   "execution_count": 16,
   "metadata": {},
   "outputs": [
    {
     "name": "stdout",
     "output_type": "stream",
     "text": [
      "Seq | No. |     Y     |    m/z    \n",
      "----------------------------------\n",
      "H   |    9| 1148.51583| 1148.51583\n",
      "F   |    8| 1011.45692| 1011.45692\n",
      "E   |    7|  864.38851|  864.38851\n",
      "E   |    6|  735.34592|  735.34592\n",
      "D   |    5|  606.30333|  606.30333\n",
      "M   |    4|  491.27639|  491.27639\n",
      "G   |    3|   360.2359|   360.2359\n",
      "R   |    2|  303.21444|  303.21444\n",
      "K   |    1|  147.11333|  147.11333\n"
     ]
    }
   ],
   "source": [
    "print(\"Seq | No. |     Y     |    m/z    \")\n",
    "print(\"----------------------------------\")\n",
    "for i in range(len(seq)):\n",
    "    print(f\"{seq[i]:4}|{len(seq)-i:5}|{y_mass[-i-1]:11.9}|{y_mass[-i-1]/1:11.9}\")"
   ]
  },
  {
   "cell_type": "code",
   "execution_count": 17,
   "metadata": {},
   "outputs": [
    {
     "name": "stdout",
     "output_type": "stream",
     "text": [
      "Seq & No. &     Y     &    m/z    \\\\\n",
      "\\hline\n",
      "H   &    9& 1148.51583& 1148.51583\\\\\n",
      "F   &    8& 1011.45692& 1011.45692\\\\\n",
      "E   &    7&  864.38851&  864.38851\\\\\n",
      "E   &    6&  735.34592&  735.34592\\\\\n",
      "D   &    5&  606.30333&  606.30333\\\\\n",
      "M   &    4&  491.27639&  491.27639\\\\\n",
      "G   &    3&   360.2359&   360.2359\\\\\n",
      "R   &    2&  303.21444&  303.21444\\\\\n",
      "K   &    1&  147.11333&  147.11333\\\\\n"
     ]
    }
   ],
   "source": [
    "print(\"Seq & No. &     Y     &    m/z    \\\\\\\\\")\n",
    "print(\"\\hline\")\n",
    "for i in range(len(seq)):\n",
    "    print(f\"{seq[i]:4}&{len(seq)-i:5}&{y_mass[-i-1]:11.9}&{y_mass[-i-1]/1:11.9}\\\\\\\\\")"
   ]
  }
 ],
 "metadata": {
  "kernelspec": {
   "display_name": "py3113",
   "language": "python",
   "name": "python3"
  },
  "language_info": {
   "codemirror_mode": {
    "name": "ipython",
    "version": 3
   },
   "file_extension": ".py",
   "mimetype": "text/x-python",
   "name": "python",
   "nbconvert_exporter": "python",
   "pygments_lexer": "ipython3",
   "version": "3.11.3"
  },
  "orig_nbformat": 4
 },
 "nbformat": 4,
 "nbformat_minor": 2
}
