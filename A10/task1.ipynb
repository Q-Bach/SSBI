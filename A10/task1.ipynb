{
 "cells": [
  {
   "cell_type": "code",
   "execution_count": null,
   "metadata": {},
   "outputs": [],
   "source": [
    "class Node:\n",
    "    def __init__(self, name):\n",
    "        self.name = name\n",
    "        self.neighbour = []\n",
    "\n",
    "    def add_neighbour(self, neighbour):\n",
    "        if(not(neighbour in self.neighbour)):\n",
    "            self.neighbour.append(neighbour) \n",
    "\n",
    "class Map:\n",
    "    def __init__(self):\n",
    "        self.nodes = []\n",
    "        self.edges = []\n",
    "    \n",
    "    def add_edge(self, node1, node2):\n",
    "        absent = True\n",
    "        for edge in self.edges:\n",
    "            if((node1 in edge.nodes) and (node2 in edge.nodes)):\n",
    "                absent = False\n",
    "                break\n",
    "        if (absent):\n",
    "            self.edges.append(Edge(node1, node2))\n",
    "    \n",
    "    def add_node(self, node_name):\n",
    "        for node in self.nodes:\n",
    "            if (node.name == node_name):\n",
    "                return node\n",
    "        node = Node(node_name)\n",
    "        self.nodes.append(node)\n",
    "        return node\n",
    "\n",
    "class Edge:\n",
    "    def __init__(self, node1, node2):\n",
    "        self.nodes = [node1, node2]"
   ]
  },
  {
   "cell_type": "code",
   "execution_count": null,
   "metadata": {},
   "outputs": [],
   "source": [
    "ppi = Map()\n",
    "with open(\"human_interactome.csv\", \"r\") as f:\n",
    "    for line in f.readline:\n",
    "        node_names = line.split(\",\")\n",
    "        node1 = ppi.add_node(node_names[0])\n",
    "        node2 = ppi.add_node(node_names[1])\n",
    "        node1.add_neighbour(node2)\n",
    "        node2.add_neighbour(node1)\n"
   ]
  },
  {
   "cell_type": "code",
   "execution_count": 9,
   "metadata": {},
   "outputs": [],
   "source": [
    "from tqdm import tqdm"
   ]
  },
  {
   "cell_type": "code",
   "execution_count": 10,
   "metadata": {},
   "outputs": [
    {
     "name": "stderr",
     "output_type": "stream",
     "text": [
      " 39%|███▊      | 132538/342353 [12:38<20:01, 174.68it/s] \n"
     ]
    },
    {
     "ename": "KeyboardInterrupt",
     "evalue": "",
     "output_type": "error",
     "traceback": [
      "\u001b[1;31m---------------------------------------------------------------------------\u001b[0m",
      "\u001b[1;31mKeyboardInterrupt\u001b[0m                         Traceback (most recent call last)",
      "Cell \u001b[1;32mIn[10], line 4\u001b[0m\n\u001b[0;32m      2\u001b[0m \u001b[39mwith\u001b[39;00m \u001b[39mopen\u001b[39m(\u001b[39m\"\u001b[39m\u001b[39mhuman_interactome.csv\u001b[39m\u001b[39m\"\u001b[39m, \u001b[39m\"\u001b[39m\u001b[39mr\u001b[39m\u001b[39m\"\u001b[39m) \u001b[39mas\u001b[39;00m f:\n\u001b[0;32m      3\u001b[0m     lines \u001b[39m=\u001b[39m f\u001b[39m.\u001b[39mreadlines()\n\u001b[1;32m----> 4\u001b[0m     \u001b[39mfor\u001b[39;00m index \u001b[39min\u001b[39;00m tqdm(\u001b[39mrange\u001b[39m(\u001b[39mlen\u001b[39m(lines))):\n\u001b[0;32m      5\u001b[0m         line \u001b[39m=\u001b[39m lines[index]\n\u001b[0;32m      6\u001b[0m         node_names \u001b[39m=\u001b[39m line\u001b[39m.\u001b[39msplit(\u001b[39m\"\u001b[39m\u001b[39m,\u001b[39m\u001b[39m\"\u001b[39m)\n",
      "File \u001b[1;32mc:\\Users\\a1085\\miniconda3\\envs\\py3113\\Lib\\site-packages\\tqdm\\std.py:1179\u001b[0m, in \u001b[0;36mtqdm.__iter__\u001b[1;34m(self)\u001b[0m\n\u001b[0;32m   1177\u001b[0m \u001b[39mtry\u001b[39;00m:\n\u001b[0;32m   1178\u001b[0m     \u001b[39mfor\u001b[39;00m obj \u001b[39min\u001b[39;00m iterable:\n\u001b[1;32m-> 1179\u001b[0m         \u001b[39myield\u001b[39;00m obj\n\u001b[0;32m   1180\u001b[0m         \u001b[39m# Update and possibly print the progressbar.\u001b[39;00m\n\u001b[0;32m   1181\u001b[0m         \u001b[39m# Note: does not call self.update(1) for speed optimisation.\u001b[39;00m\n\u001b[0;32m   1182\u001b[0m         n \u001b[39m+\u001b[39m\u001b[39m=\u001b[39m \u001b[39m1\u001b[39m\n",
      "\u001b[1;31mKeyboardInterrupt\u001b[0m: "
     ]
    }
   ],
   "source": [
    "edges = []\n",
    "with open(\"human_interactome.csv\", \"r\") as f:\n",
    "    lines = f.readlines()\n",
    "    for index in tqdm(range(len(lines))):\n",
    "        line = lines[index]\n",
    "        node_names = line.split(\",\")\n",
    "        if [node_names[1],node_names[0]] in edges:\n",
    "            print(\"directed\")\n",
    "            break\n",
    "        else:\n",
    "            edges.append(node_names)"
   ]
  }
 ],
 "metadata": {
  "kernelspec": {
   "display_name": "py3113",
   "language": "python",
   "name": "python3"
  },
  "language_info": {
   "codemirror_mode": {
    "name": "ipython",
    "version": 3
   },
   "file_extension": ".py",
   "mimetype": "text/x-python",
   "name": "python",
   "nbconvert_exporter": "python",
   "pygments_lexer": "ipython3",
   "version": "3.11.3"
  },
  "orig_nbformat": 4
 },
 "nbformat": 4,
 "nbformat_minor": 2
}
