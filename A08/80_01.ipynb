{
 "cells": [
  {
   "cell_type": "code",
   "execution_count": 1,
   "metadata": {},
   "outputs": [],
   "source": [
    "# Table of monoisotopic masses from https://education.expasy.org/student_projects/isotopident/htdocs/aa-list.html\n",
    "aa_mass_mono = {\n",
    "    \"A\": 71.03711,\n",
    "    \"R\": 156.10111,\n",
    "    \"N\": 114.04293,\n",
    "    \"D\": 115.02694,\n",
    "    \"C\": 103.00919,\n",
    "    \"E\": 129.04259,\n",
    "    \"Q\": 128.05858,\n",
    "    \"G\": 57.02146,\n",
    "    \"H\": 137.05891,\n",
    "    \"I\": 113.08406,\n",
    "    \"L\": 113.08406,\n",
    "    \"K\": 128.09496,\n",
    "    \"M\": 131.04049,\n",
    "    \"F\": 147.06841,\n",
    "    \"P\": 97.05276,\n",
    "    \"S\": 87.03203,\n",
    "    \"T\": 101.04768,\n",
    "    \"W\": 186.07931,\n",
    "    \"Y\": 163.06333,\n",
    "    \"V\": 99.06841\n",
    "}\n",
    "\n",
    "aa_mass_avg = {\n",
    "        \"A\": 71.0788,\n",
    "        \"R\": 156.1875,\n",
    "        \"N\": 114.1038,\n",
    "        \"D\": 115.0886,\n",
    "        \"C\": 103.1388,\n",
    "        \"E\": 129.1155,\n",
    "        \"Q\": 128.1307,\n",
    "        \"G\": 57.0519,\n",
    "        \"H\": 137.1411,\n",
    "        \"I\": 113.1594,\n",
    "        \"L\": 113.1594,\n",
    "        \"K\": 128.1741,\n",
    "        \"M\": 131.1926,\n",
    "        \"F\": 147.1766,\n",
    "        \"P\": 97.1167,\n",
    "        \"S\": 87.0782,\n",
    "        \"T\": 101.1051,\n",
    "        \"W\": 186.2132,\n",
    "        \"Y\": 163.1760,\n",
    "        \"V\": 99.1326 \n",
    "}\n",
    "\n",
    "atom_mass = {\n",
    "    \"H\": 1.00782,\n",
    "    \"O\": 15.99491\n",
    "}"
   ]
  },
  {
   "cell_type": "code",
   "execution_count": 2,
   "metadata": {},
   "outputs": [],
   "source": [
    "spectrum1 = []\n",
    "spectrum2 = []\n",
    "with open(\"./materials/b_y_spectrum.txt\", \"r\") as f:\n",
    "    lines = f.readlines()\n",
    "    for i in range(int(len(lines)/2)):\n",
    "        spectrum1.append(float(lines[i*2].split()[0]))\n",
    "        spectrum2.append(float(lines[i*2+1].split()[0]))"
   ]
  },
  {
   "cell_type": "code",
   "execution_count": 3,
   "metadata": {},
   "outputs": [],
   "source": [
    "masses1 = [spectrum1[0]]\n",
    "masses2 = [spectrum2[0]]\n",
    "for i in range(len(spectrum1)-1):\n",
    "    masses1.append(spectrum1[i+1]-spectrum1[i])\n",
    "    masses2.append(spectrum2[i+1]-spectrum2[i])"
   ]
  },
  {
   "cell_type": "code",
   "execution_count": 4,
   "metadata": {},
   "outputs": [],
   "source": [
    "masses1[0] -= atom_mass[\"H\"]"
   ]
  },
  {
   "cell_type": "code",
   "execution_count": 5,
   "metadata": {},
   "outputs": [
    {
     "data": {
      "text/plain": [
       "[101.01218,\n",
       " 113.11999999999999,\n",
       " 99.12,\n",
       " 113.05000000000001,\n",
       " 113.10999999999996,\n",
       " 113.03000000000009,\n",
       " 87.02999999999997,\n",
       " 57.039999999999964,\n",
       " 133.92000000000007,\n",
       " 101.01999999999998,\n",
       " 128.1199999999999,\n",
       " 100.97000000000003,\n",
       " 113.06999999999994,\n",
       " 71.09000000000015,\n",
       " 113.1099999999999,\n",
       " 123.16000000000008,\n",
       " 71.02999999999997,\n",
       " 57.049999999999955,\n",
       " 87.00999999999999,\n",
       " 137.11000000000013,\n",
       " 87.01999999999975,\n",
       " 131.03999999999996,\n",
       " 156.08000000000038]"
      ]
     },
     "execution_count": 5,
     "metadata": {},
     "output_type": "execute_result"
    }
   ],
   "source": [
    "masses1"
   ]
  },
  {
   "cell_type": "code",
   "execution_count": 13,
   "metadata": {},
   "outputs": [
    {
     "data": {
      "text/plain": [
       "[175.09,\n",
       " 131.04,\n",
       " 87.03000000000003,\n",
       " 137.07999999999998,\n",
       " 87.01999999999998,\n",
       " 57.039999999999964,\n",
       " 71.0,\n",
       " 123.22000000000003,\n",
       " 113.08000000000004,\n",
       " 71.08000000000004,\n",
       " 113.03999999999996,\n",
       " 101.11999999999989,\n",
       " 128.07000000000016,\n",
       " 100.99000000000001,\n",
       " 133.94999999999982,\n",
       " 57.0300000000002,\n",
       " 87.00999999999999,\n",
       " 113.1099999999999,\n",
       " 113.03999999999996,\n",
       " 113.09000000000015,\n",
       " 99.07999999999993,\n",
       " 113.11000000000013,\n",
       " 101.02999999999975]"
      ]
     },
     "execution_count": 13,
     "metadata": {},
     "output_type": "execute_result"
    }
   ],
   "source": [
    "masses2"
   ]
  },
  {
   "cell_type": "code",
   "execution_count": 6,
   "metadata": {},
   "outputs": [],
   "source": [
    "def find_in_range(mass, error=0.055):\n",
    "    temp = []\n",
    "    for aa in aa_mass_mono:\n",
    "        if (aa_mass_mono[aa]-error <= mass <= aa_mass_mono[aa]+error):\n",
    "            temp.append(aa)\n",
    "    return temp \n",
    "def find_closest(mass):\n",
    "    temp = \"x\"\n",
    "    min_delta = 65535\n",
    "    for aa in aa_mass_mono:\n",
    "        if(abs(aa_mass_mono[aa] - mass) < min_delta):\n",
    "            temp = aa\n",
    "            min_delta = abs(aa_mass_mono[aa] - mass)\n",
    "    return temp\n",
    "def decode(masses):\n",
    "    seq = [\"\"]\n",
    "    for mass in masses:\n",
    "        aa = find_in_range(mass)\n",
    "        if (len(aa)==0):\n",
    "            aa = find_closest(mass)\n",
    "            seq = [s + aa for s in seq]\n",
    "        else:\n",
    "            temp = seq.copy()\n",
    "            seq = []\n",
    "            for a in aa:\n",
    "                seq.extend([s + a for s in temp])\n",
    "    return seq\n",
    "def reverse(seqs):\n",
    "    if type(seqs)==str:\n",
    "        rev_seq = ''\n",
    "        for i in range(1,len(seqs)+1):\n",
    "            rev_seq += seqs[-i]\n",
    "        return rev_seq\n",
    "    else:\n",
    "        output = []\n",
    "        for seq in seqs:\n",
    "            output.append(reverse(seq))\n",
    "        return output"
   ]
  },
  {
   "cell_type": "code",
   "execution_count": 7,
   "metadata": {},
   "outputs": [],
   "source": [
    "seq1 = decode(masses1)"
   ]
  },
  {
   "cell_type": "code",
   "execution_count": 8,
   "metadata": {},
   "outputs": [
    {
     "data": {
      "text/plain": [
       "64"
      ]
     },
     "execution_count": 8,
     "metadata": {},
     "output_type": "execute_result"
    }
   ],
   "source": [
    "len(seq1)"
   ]
  },
  {
   "cell_type": "code",
   "execution_count": 9,
   "metadata": {},
   "outputs": [],
   "source": [
    "seq2 = reverse(decode(masses2))\n"
   ]
  },
  {
   "cell_type": "code",
   "execution_count": 12,
   "metadata": {},
   "outputs": [
    {
     "data": {
      "text/plain": [
       "128"
      ]
     },
     "execution_count": 12,
     "metadata": {},
     "output_type": "execute_result"
    }
   ],
   "source": [
    "len(seq2)"
   ]
  },
  {
   "cell_type": "code",
   "execution_count": 10,
   "metadata": {},
   "outputs": [],
   "source": [
    "result = []\n",
    "for seq in seq1:\n",
    "    if seq in seq2:\n",
    "        result.append(seq)"
   ]
  },
  {
   "cell_type": "code",
   "execution_count": 11,
   "metadata": {},
   "outputs": [
    {
     "data": {
      "text/plain": [
       "0"
      ]
     },
     "execution_count": 11,
     "metadata": {},
     "output_type": "execute_result"
    }
   ],
   "source": [
    "len(result)"
   ]
  },
  {
   "cell_type": "code",
   "execution_count": 130,
   "metadata": {},
   "outputs": [
    {
     "data": {
      "text/plain": [
       "['TIVIIISGMTKTIAIQAGSHSMR',\n",
       " 'TLVIIISGMTKTIAIQAGSHSMR',\n",
       " 'TIVLIISGMTKTIAIQAGSHSMR',\n",
       " 'TLVLIISGMTKTIAIQAGSHSMR',\n",
       " 'TIVILISGMTKTIAIQAGSHSMR',\n",
       " 'TLVILISGMTKTIAIQAGSHSMR',\n",
       " 'TIVLLISGMTKTIAIQAGSHSMR',\n",
       " 'TLVLLISGMTKTIAIQAGSHSMR',\n",
       " 'TIVIILSGMTKTIAIQAGSHSMR',\n",
       " 'TLVIILSGMTKTIAIQAGSHSMR',\n",
       " 'TIVLILSGMTKTIAIQAGSHSMR',\n",
       " 'TLVLILSGMTKTIAIQAGSHSMR',\n",
       " 'TIVILLSGMTKTIAIQAGSHSMR',\n",
       " 'TLVILLSGMTKTIAIQAGSHSMR',\n",
       " 'TIVLLLSGMTKTIAIQAGSHSMR',\n",
       " 'TLVLLLSGMTKTIAIQAGSHSMR',\n",
       " 'TIVIIISGMTKTLAIQAGSHSMR',\n",
       " 'TLVIIISGMTKTLAIQAGSHSMR',\n",
       " 'TIVLIISGMTKTLAIQAGSHSMR',\n",
       " 'TLVLIISGMTKTLAIQAGSHSMR',\n",
       " 'TIVILISGMTKTLAIQAGSHSMR',\n",
       " 'TLVILISGMTKTLAIQAGSHSMR',\n",
       " 'TIVLLISGMTKTLAIQAGSHSMR',\n",
       " 'TLVLLISGMTKTLAIQAGSHSMR',\n",
       " 'TIVIILSGMTKTLAIQAGSHSMR',\n",
       " 'TLVIILSGMTKTLAIQAGSHSMR',\n",
       " 'TIVLILSGMTKTLAIQAGSHSMR',\n",
       " 'TLVLILSGMTKTLAIQAGSHSMR',\n",
       " 'TIVILLSGMTKTLAIQAGSHSMR',\n",
       " 'TLVILLSGMTKTLAIQAGSHSMR',\n",
       " 'TIVLLLSGMTKTLAIQAGSHSMR',\n",
       " 'TLVLLLSGMTKTLAIQAGSHSMR',\n",
       " 'TIVIIISGMTKTIALQAGSHSMR',\n",
       " 'TLVIIISGMTKTIALQAGSHSMR',\n",
       " 'TIVLIISGMTKTIALQAGSHSMR',\n",
       " 'TLVLIISGMTKTIALQAGSHSMR',\n",
       " 'TIVILISGMTKTIALQAGSHSMR',\n",
       " 'TLVILISGMTKTIALQAGSHSMR',\n",
       " 'TIVLLISGMTKTIALQAGSHSMR',\n",
       " 'TLVLLISGMTKTIALQAGSHSMR',\n",
       " 'TIVIILSGMTKTIALQAGSHSMR',\n",
       " 'TLVIILSGMTKTIALQAGSHSMR',\n",
       " 'TIVLILSGMTKTIALQAGSHSMR',\n",
       " 'TLVLILSGMTKTIALQAGSHSMR',\n",
       " 'TIVILLSGMTKTIALQAGSHSMR',\n",
       " 'TLVILLSGMTKTIALQAGSHSMR',\n",
       " 'TIVLLLSGMTKTIALQAGSHSMR',\n",
       " 'TLVLLLSGMTKTIALQAGSHSMR',\n",
       " 'TIVIIISGMTKTLALQAGSHSMR',\n",
       " 'TLVIIISGMTKTLALQAGSHSMR',\n",
       " 'TIVLIISGMTKTLALQAGSHSMR',\n",
       " 'TLVLIISGMTKTLALQAGSHSMR',\n",
       " 'TIVILISGMTKTLALQAGSHSMR',\n",
       " 'TLVILISGMTKTLALQAGSHSMR',\n",
       " 'TIVLLISGMTKTLALQAGSHSMR',\n",
       " 'TLVLLISGMTKTLALQAGSHSMR',\n",
       " 'TIVIILSGMTKTLALQAGSHSMR',\n",
       " 'TLVIILSGMTKTLALQAGSHSMR',\n",
       " 'TIVLILSGMTKTLALQAGSHSMR',\n",
       " 'TLVLILSGMTKTLALQAGSHSMR',\n",
       " 'TIVILLSGMTKTLALQAGSHSMR',\n",
       " 'TLVILLSGMTKTLALQAGSHSMR',\n",
       " 'TIVLLLSGMTKTLALQAGSHSMR',\n",
       " 'TLVLLLSGMTKTLALQAGSHSMR']"
      ]
     },
     "execution_count": 130,
     "metadata": {},
     "output_type": "execute_result"
    }
   ],
   "source": [
    "result"
   ]
  },
  {
   "cell_type": "code",
   "execution_count": 138,
   "metadata": {},
   "outputs": [
    {
     "name": "stdout",
     "output_type": "stream",
     "text": [
      "TIVIIISGMTKTIAIQAGSHSMR, TLVIIISGMTKTIAIQAGSHSMR, TIVLIISGMTKTIAIQAGSHSMR, \n",
      "TLVLIISGMTKTIAIQAGSHSMR, TIVILISGMTKTIAIQAGSHSMR, TLVILISGMTKTIAIQAGSHSMR, \n",
      "TIVLLISGMTKTIAIQAGSHSMR, TLVLLISGMTKTIAIQAGSHSMR, TIVIILSGMTKTIAIQAGSHSMR, \n",
      "TLVIILSGMTKTIAIQAGSHSMR, TIVLILSGMTKTIAIQAGSHSMR, TLVLILSGMTKTIAIQAGSHSMR, \n",
      "TIVILLSGMTKTIAIQAGSHSMR, TLVILLSGMTKTIAIQAGSHSMR, TIVLLLSGMTKTIAIQAGSHSMR, \n",
      "TLVLLLSGMTKTIAIQAGSHSMR, TIVIIISGMTKTLAIQAGSHSMR, TLVIIISGMTKTLAIQAGSHSMR, \n",
      "TIVLIISGMTKTLAIQAGSHSMR, TLVLIISGMTKTLAIQAGSHSMR, TIVILISGMTKTLAIQAGSHSMR, \n",
      "TLVILISGMTKTLAIQAGSHSMR, TIVLLISGMTKTLAIQAGSHSMR, TLVLLISGMTKTLAIQAGSHSMR, \n",
      "TIVIILSGMTKTLAIQAGSHSMR, TLVIILSGMTKTLAIQAGSHSMR, TIVLILSGMTKTLAIQAGSHSMR, \n",
      "TLVLILSGMTKTLAIQAGSHSMR, TIVILLSGMTKTLAIQAGSHSMR, TLVILLSGMTKTLAIQAGSHSMR, \n",
      "TIVLLLSGMTKTLAIQAGSHSMR, TLVLLLSGMTKTLAIQAGSHSMR, TIVIIISGMTKTIALQAGSHSMR, \n",
      "TLVIIISGMTKTIALQAGSHSMR, TIVLIISGMTKTIALQAGSHSMR, TLVLIISGMTKTIALQAGSHSMR, \n",
      "TIVILISGMTKTIALQAGSHSMR, TLVILISGMTKTIALQAGSHSMR, TIVLLISGMTKTIALQAGSHSMR, \n",
      "TLVLLISGMTKTIALQAGSHSMR, TIVIILSGMTKTIALQAGSHSMR, TLVIILSGMTKTIALQAGSHSMR, \n",
      "TIVLILSGMTKTIALQAGSHSMR, TLVLILSGMTKTIALQAGSHSMR, TIVILLSGMTKTIALQAGSHSMR, \n",
      "TLVILLSGMTKTIALQAGSHSMR, TIVLLLSGMTKTIALQAGSHSMR, TLVLLLSGMTKTIALQAGSHSMR, \n",
      "TIVIIISGMTKTLALQAGSHSMR, TLVIIISGMTKTLALQAGSHSMR, TIVLIISGMTKTLALQAGSHSMR, \n",
      "TLVLIISGMTKTLALQAGSHSMR, TIVILISGMTKTLALQAGSHSMR, TLVILISGMTKTLALQAGSHSMR, \n",
      "TIVLLISGMTKTLALQAGSHSMR, TLVLLISGMTKTLALQAGSHSMR, TIVIILSGMTKTLALQAGSHSMR, \n",
      "TLVIILSGMTKTLALQAGSHSMR, TIVLILSGMTKTLALQAGSHSMR, TLVLILSGMTKTLALQAGSHSMR, \n",
      "TIVILLSGMTKTLALQAGSHSMR, TLVILLSGMTKTLALQAGSHSMR, TIVLLLSGMTKTLALQAGSHSMR, \n",
      "TLVLLLSGMTKTLALQAGSHSMR, "
     ]
    }
   ],
   "source": [
    "for i, seq in enumerate(result):\n",
    "    print(seq+\", \", end=\"\")\n",
    "    if ((i+1)%3==0):\n",
    "        print()"
   ]
  },
  {
   "cell_type": "code",
   "execution_count": 95,
   "metadata": {},
   "outputs": [],
   "source": [
    "b_sequence = ''\n",
    "for mass in masses1:\n",
    "    temp = \"x\"\n",
    "    min_delta = 65535\n",
    "    for aa in aa_mass_mono:\n",
    "        if(abs(aa_mass_mono[aa] - mass)< min_delta):\n",
    "            temp = aa\n",
    "            min_delta = abs(aa_mass_mono[aa] - mass)\n",
    "    b_sequence += temp"
   ]
  },
  {
   "cell_type": "code",
   "execution_count": 96,
   "metadata": {},
   "outputs": [
    {
     "data": {
      "text/plain": [
       "'TIVIIISGMTKTIAIQAGSHSMR'"
      ]
     },
     "execution_count": 96,
     "metadata": {},
     "output_type": "execute_result"
    }
   ],
   "source": [
    "b_sequence"
   ]
  },
  {
   "cell_type": "code",
   "execution_count": 54,
   "metadata": {},
   "outputs": [
    {
     "data": {
      "text/plain": [
       "23"
      ]
     },
     "execution_count": 54,
     "metadata": {},
     "output_type": "execute_result"
    }
   ],
   "source": [
    "len(masses1)"
   ]
  },
  {
   "cell_type": "code",
   "execution_count": 62,
   "metadata": {},
   "outputs": [
    {
     "data": {
      "text/plain": [
       "23"
      ]
     },
     "execution_count": 62,
     "metadata": {},
     "output_type": "execute_result"
    }
   ],
   "source": [
    "len(\"TIVIIISGxTKxIAIxAGSHSMR\")"
   ]
  },
  {
   "cell_type": "code",
   "execution_count": 78,
   "metadata": {},
   "outputs": [],
   "source": [
    "masses2[0] = masses2[0] - 3*atom_mass[\"H\"]-atom_mass[\"O\"]"
   ]
  },
  {
   "cell_type": "code",
   "execution_count": 97,
   "metadata": {},
   "outputs": [],
   "source": [
    "rev_y_sequence = ''\n",
    "for mass in masses2:\n",
    "    temp = \"x\"\n",
    "    min_delta = 65535\n",
    "    for aa in aa_mass_mono:\n",
    "        if(abs(aa_mass_mono[aa] - mass)< min_delta):\n",
    "            temp = aa\n",
    "            min_delta = abs(aa_mass_mono[aa] - mass)\n",
    "    rev_y_sequence += temp\n",
    "y_sequence = ''\n",
    "for i in range(1,len(rev_y_sequence)+1):\n",
    "    y_sequence += rev_y_sequence[-i]\n",
    "    "
   ]
  },
  {
   "cell_type": "code",
   "execution_count": 98,
   "metadata": {},
   "outputs": [
    {
     "data": {
      "text/plain": [
       "'TIVIIISGMTQTIAIQAGSHSMR'"
      ]
     },
     "execution_count": 98,
     "metadata": {},
     "output_type": "execute_result"
    }
   ],
   "source": [
    "y_sequence"
   ]
  },
  {
   "cell_type": "code",
   "execution_count": 99,
   "metadata": {},
   "outputs": [
    {
     "data": {
      "text/plain": [
       "'TIVIIISGMTKTIAIQAGSHSMR'"
      ]
     },
     "execution_count": 99,
     "metadata": {},
     "output_type": "execute_result"
    }
   ],
   "source": [
    "b_sequence"
   ]
  },
  {
   "cell_type": "code",
   "execution_count": 87,
   "metadata": {},
   "outputs": [
    {
     "data": {
      "text/plain": [
       "[156.07163,\n",
       " 131.04,\n",
       " 87.03000000000003,\n",
       " 137.07999999999998,\n",
       " 87.01999999999998,\n",
       " 57.039999999999964,\n",
       " 71.0,\n",
       " 123.22000000000003,\n",
       " 113.08000000000004,\n",
       " 71.08000000000004,\n",
       " 113.03999999999996,\n",
       " 101.11999999999989,\n",
       " 128.07000000000016,\n",
       " 100.99000000000001,\n",
       " 133.94999999999982,\n",
       " 57.0300000000002,\n",
       " 87.00999999999999,\n",
       " 113.1099999999999,\n",
       " 113.03999999999996,\n",
       " 113.09000000000015,\n",
       " 99.07999999999993,\n",
       " 113.11000000000013,\n",
       " 101.02999999999975]"
      ]
     },
     "execution_count": 87,
     "metadata": {},
     "output_type": "execute_result"
    }
   ],
   "source": [
    "masses2"
   ]
  },
  {
   "cell_type": "code",
   "execution_count": 91,
   "metadata": {},
   "outputs": [
    {
     "data": {
      "text/plain": [
       "'Q'"
      ]
     },
     "execution_count": 91,
     "metadata": {},
     "output_type": "execute_result"
    }
   ],
   "source": [
    "min(aa_mass_mono, key=lambda x: abs(aa_mass_mono[x] - masses2[-11]))"
   ]
  },
  {
   "cell_type": "code",
   "execution_count": 92,
   "metadata": {},
   "outputs": [
    {
     "data": {
      "text/plain": [
       "-0.011420000000157415"
      ]
     },
     "execution_count": 92,
     "metadata": {},
     "output_type": "execute_result"
    }
   ],
   "source": [
    "aa_mass_mono[\"Q\"] - masses2[-1]"
   ]
  },
  {
   "cell_type": "code",
   "execution_count": 94,
   "metadata": {},
   "outputs": [
    {
     "data": {
      "text/plain": [
       "128.07000000000016"
      ]
     },
     "execution_count": 94,
     "metadata": {},
     "output_type": "execute_result"
    }
   ],
   "source": [
    "masses2[-11]"
   ]
  },
  {
   "cell_type": "code",
   "execution_count": 103,
   "metadata": {},
   "outputs": [],
   "source": [
    "output = [\"\"]\n",
    "for aa in b_sequence:\n",
    "    if (aa==\"I\"):\n",
    "        temp = output.copy()\n",
    "        output = [s + \"I\" for s in temp]\n",
    "        output.extend([s + \"L\" for s in temp])\n",
    "    elif (aa==\"L\"):\n",
    "        temp = output.copy()\n",
    "        output = [s + \"I\" for s in temp]\n",
    "        output.extend([s + \"L\" for s in temp])\n",
    "    elif (aa==\"K\"):\n",
    "        temp = output.copy()\n",
    "        output = [s + \"K\" for s in temp]\n",
    "        output.extend([s + \"Q\" for s in temp])\n",
    "    elif (aa==\"Q\"):\n",
    "        temp = output.copy()\n",
    "        output = [s + \"K\" for s in temp]\n",
    "        output.extend([s + \"Q\" for s in temp])\n",
    "    else:\n",
    "        output = [s + aa for s in output]"
   ]
  },
  {
   "cell_type": "code",
   "execution_count": 121,
   "metadata": {},
   "outputs": [
    {
     "data": {
      "text/plain": [
       "256"
      ]
     },
     "execution_count": 121,
     "metadata": {},
     "output_type": "execute_result"
    }
   ],
   "source": [
    "len(output)"
   ]
  },
  {
   "cell_type": "code",
   "execution_count": 139,
   "metadata": {},
   "outputs": [
    {
     "data": {
      "text/plain": [
       "0.03549999999999898"
      ]
     },
     "execution_count": 139,
     "metadata": {},
     "output_type": "execute_result"
    }
   ],
   "source": [
    "min_1 = 65535\n",
    "min_2 = 65535\n",
    "aa_1 = spectrum1[0] - atom_mass[\"H\"]\n",
    "aa_2 = spectrum2[0] - atom_mass[\"H\"]\n",
    "for aa in aa_mass_mono:\n",
    "    if(abs(aa_1-aa_mass_mono[aa])<min_1):\n",
    "        min_1 = abs(aa_1-aa_mass_mono[aa])\n",
    "    if(abs(aa_2-aa_mass_mono[aa])<min_2):\n",
    "        min_2 = abs(aa_2-aa_mass_mono[aa])\n",
    "min_1"
   ]
  },
  {
   "cell_type": "code",
   "execution_count": 140,
   "metadata": {},
   "outputs": [
    {
     "data": {
      "text/plain": [
       "11.018849999999986"
      ]
     },
     "execution_count": 140,
     "metadata": {},
     "output_type": "execute_result"
    }
   ],
   "source": [
    "min_2"
   ]
  }
 ],
 "metadata": {
  "kernelspec": {
   "display_name": "py3113",
   "language": "python",
   "name": "python3"
  },
  "language_info": {
   "codemirror_mode": {
    "name": "ipython",
    "version": 3
   },
   "file_extension": ".py",
   "mimetype": "text/x-python",
   "name": "python",
   "nbconvert_exporter": "python",
   "pygments_lexer": "ipython3",
   "version": "3.11.3"
  },
  "orig_nbformat": 4
 },
 "nbformat": 4,
 "nbformat_minor": 2
}
